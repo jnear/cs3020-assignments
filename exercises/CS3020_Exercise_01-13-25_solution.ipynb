{
 "cells": [
  {
   "cell_type": "markdown",
   "metadata": {},
   "source": [
    "# CS 3020: Compiler Construction\n",
    "\n",
    "## In-class Exercises, Week of 01/13/2025"
   ]
  },
  {
   "cell_type": "markdown",
   "metadata": {},
   "source": [
    "----\n",
    "# PART I: Abstract Syntax Trees"
   ]
  },
  {
   "cell_type": "markdown",
   "metadata": {},
   "source": [
    "## Question 1\n",
    "\n",
    "The following grammar defines the *concrete syntax* for a language of integer arithmetic (numbers and the \"plus\" operator).\n",
    "\n",
    "\\begin{align*}\n",
    "expr &::= n \\\\\n",
    "&\\mid expr + expr\n",
    "\\end{align*}\n",
    "\n",
    "The following class hierarchy defines an *abstract syntax* for the same language."
   ]
  },
  {
   "cell_type": "code",
   "execution_count": 3,
   "metadata": {},
   "outputs": [],
   "source": [
    "from dataclasses import dataclass\n",
    "from cs3020_support.python import AST, print_ast\n",
    "\n",
    "@dataclass\n",
    "class Expr(AST):\n",
    "    pass\n",
    "\n",
    "@dataclass\n",
    "class Constant(Expr):\n",
    "    val: int\n",
    "\n",
    "@dataclass\n",
    "class Plus(Expr):\n",
    "    e1: Expr\n",
    "    e2: Expr"
   ]
  },
  {
   "cell_type": "markdown",
   "metadata": {},
   "source": [
    "Write an abstract syntax tree for the expression `1 + 2 + 3`."
   ]
  },
  {
   "cell_type": "code",
   "execution_count": 12,
   "metadata": {},
   "outputs": [
    {
     "data": {
      "text/plain": [
       "Plus(e1=Plus(e1=Constant(val=1), e2=Constant(val=2)), e2=Constant(val=3))"
      ]
     },
     "execution_count": 12,
     "metadata": {},
     "output_type": "execute_result"
    }
   ],
   "source": [
    "Plus(Plus(Constant(1), Constant(2)), Constant(3))"
   ]
  },
  {
   "cell_type": "code",
   "execution_count": 13,
   "metadata": {},
   "outputs": [
    {
     "name": "stdout",
     "output_type": "stream",
     "text": [
      "Plus(\n",
      " Plus(\n",
      "  Constant(1),\n",
      "  Constant(2)),\n",
      " Constant(3))\n"
     ]
    }
   ],
   "source": [
    "ast = Plus(Plus(Constant(1), Constant(2)), Constant(3))\n",
    "print(print_ast(ast))"
   ]
  },
  {
   "cell_type": "markdown",
   "metadata": {},
   "source": [
    "## Question 2\n",
    "\n",
    "The code below defines a parser that transforms concrete syntax for this simple language into abstract syntax trees."
   ]
  },
  {
   "cell_type": "code",
   "execution_count": 14,
   "metadata": {},
   "outputs": [],
   "source": [
    "from lark import Lark\n",
    "_rint_parser = Lark(r\"\"\"\n",
    "    ?exp: NUMBER -> int_e\n",
    "        | exp \"+\" exp -> plus_e\n",
    "        | \"(\" exp \")\"\n",
    "    %import common.NUMBER\n",
    "    %import common.CNAME\n",
    "    %import common.WS\n",
    "    %ignore WS\n",
    "    \"\"\", start='exp')\n",
    "\n",
    "def parse(s):\n",
    "    def t_ast(e):\n",
    "        if e.data == 'int_e':\n",
    "            return Constant(int(e.children[0]))\n",
    "        elif e.data == 'plus_e':\n",
    "            e1, e2 = e.children\n",
    "            return Plus(t_ast(e1), t_ast(e2))\n",
    "\n",
    "    parsed = _rint_parser.parse(s)\n",
    "    ast = t_ast(parsed)\n",
    "    return ast"
   ]
  },
  {
   "cell_type": "code",
   "execution_count": 17,
   "metadata": {},
   "outputs": [
    {
     "data": {
      "text/plain": [
       "Tree('plus_e', [Tree('plus_e', [Tree('int_e', [Token('NUMBER', '1')]), Tree('int_e', [Token('NUMBER', '2')])]), Tree('int_e', [Token('NUMBER', '3')])])"
      ]
     },
     "execution_count": 17,
     "metadata": {},
     "output_type": "execute_result"
    }
   ],
   "source": [
    "_rint_parser.parse('1+2+3')"
   ]
  },
  {
   "cell_type": "markdown",
   "metadata": {},
   "source": [
    "Write code to use the parser above to parse the expression `1 + 2 + 3` into an abstract syntax tree."
   ]
  },
  {
   "cell_type": "code",
   "execution_count": 18,
   "metadata": {},
   "outputs": [
    {
     "name": "stdout",
     "output_type": "stream",
     "text": [
      "Plus(\n",
      " Plus(\n",
      "  Constant(1),\n",
      "  Constant(2)),\n",
      " Constant(3))\n"
     ]
    }
   ],
   "source": [
    "ast = parse('1+2+3')\n",
    "print(print_ast(ast))"
   ]
  },
  {
   "cell_type": "markdown",
   "metadata": {},
   "source": [
    "## Question 3\n",
    "\n",
    "Write an *interpreter* for this language.\n",
    "\n",
    "**The structure of your function should follow the structure of the AST**"
   ]
  },
  {
   "cell_type": "code",
   "execution_count": 24,
   "metadata": {},
   "outputs": [],
   "source": [
    "def eval_rint(e: Expr) -> int:\n",
    "    match e:   # 1. match statement on the input AST\n",
    "        case Constant(i): # 2. add a match case for each possible AST node of that type\n",
    "            # variable i is bound to e.val\n",
    "            return i\n",
    "        case Plus(e1, e2):\n",
    "            # variable e1 bound to e.e1\n",
    "            v1 = eval_rint(e1) # 3. add recursive calls for subexpressions\n",
    "            v2 = eval_rint(e2)\n",
    "            return v1 + v2     # 4. thinking"
   ]
  },
  {
   "cell_type": "code",
   "execution_count": 25,
   "metadata": {},
   "outputs": [],
   "source": [
    "# TEST CASE\n",
    "assert eval_rint(parse('1 + 2 + 3')) == 6\n",
    "assert eval_rint(parse('42 + 20 + 10 + 5 + 5')) == 82"
   ]
  },
  {
   "cell_type": "markdown",
   "metadata": {},
   "source": [
    "----\n",
    "# PART II: x86 Assembly"
   ]
  },
  {
   "cell_type": "code",
   "execution_count": 26,
   "metadata": {},
   "outputs": [],
   "source": [
    "from cs3020_support.eval_x86 import X86Emulator"
   ]
  },
  {
   "cell_type": "markdown",
   "metadata": {},
   "source": [
    "## Question 4\n",
    "\n",
    "Write x86 assembly code to add the numbers 1 and 2, putting the result in the register `rax`."
   ]
  },
  {
   "cell_type": "code",
   "execution_count": 30,
   "metadata": {},
   "outputs": [
    {
     "data": {
      "text/html": [
       "<div>\n",
       "<style scoped>\n",
       "    .dataframe tbody tr th:only-of-type {\n",
       "        vertical-align: middle;\n",
       "    }\n",
       "\n",
       "    .dataframe tbody tr th {\n",
       "        vertical-align: top;\n",
       "    }\n",
       "\n",
       "    .dataframe thead th {\n",
       "        text-align: right;\n",
       "    }\n",
       "</style>\n",
       "<table border=\"1\" class=\"dataframe\">\n",
       "  <thead>\n",
       "    <tr style=\"text-align: right;\">\n",
       "      <th></th>\n",
       "      <th>Location</th>\n",
       "      <th>Old</th>\n",
       "      <th>New</th>\n",
       "    </tr>\n",
       "  </thead>\n",
       "  <tbody>\n",
       "    <tr>\n",
       "      <th>0</th>\n",
       "      <td>reg rax</td>\n",
       "      <td>None</td>\n",
       "      <td>3</td>\n",
       "    </tr>\n",
       "  </tbody>\n",
       "</table>\n",
       "</div>"
      ],
      "text/plain": [
       "  Location   Old  New\n",
       "0  reg rax  None    3"
      ]
     },
     "execution_count": 30,
     "metadata": {},
     "output_type": "execute_result"
    }
   ],
   "source": [
    "emu = X86Emulator(logging = False)\n",
    "emu.eval_instructions(\"\"\"\n",
    "movq $1, %rax\n",
    "addq $2, %rax\"\"\")"
   ]
  },
  {
   "cell_type": "markdown",
   "metadata": {},
   "source": [
    "## Question 5 \n",
    "\n",
    "Write x86 assembly code to add the numbers 1, 2, 3, and 4, putting the result in the register `rdi`."
   ]
  },
  {
   "cell_type": "code",
   "execution_count": 32,
   "metadata": {},
   "outputs": [
    {
     "data": {
      "text/html": [
       "<div>\n",
       "<style scoped>\n",
       "    .dataframe tbody tr th:only-of-type {\n",
       "        vertical-align: middle;\n",
       "    }\n",
       "\n",
       "    .dataframe tbody tr th {\n",
       "        vertical-align: top;\n",
       "    }\n",
       "\n",
       "    .dataframe thead th {\n",
       "        text-align: right;\n",
       "    }\n",
       "</style>\n",
       "<table border=\"1\" class=\"dataframe\">\n",
       "  <thead>\n",
       "    <tr style=\"text-align: right;\">\n",
       "      <th></th>\n",
       "      <th>Location</th>\n",
       "      <th>Old</th>\n",
       "      <th>New</th>\n",
       "    </tr>\n",
       "  </thead>\n",
       "  <tbody>\n",
       "    <tr>\n",
       "      <th>0</th>\n",
       "      <td>reg rax</td>\n",
       "      <td>None</td>\n",
       "      <td>10</td>\n",
       "    </tr>\n",
       "    <tr>\n",
       "      <th>1</th>\n",
       "      <td>reg rdi</td>\n",
       "      <td>None</td>\n",
       "      <td>10</td>\n",
       "    </tr>\n",
       "  </tbody>\n",
       "</table>\n",
       "</div>"
      ],
      "text/plain": [
       "  Location   Old  New\n",
       "0  reg rax  None   10\n",
       "1  reg rdi  None   10"
      ]
     },
     "execution_count": 32,
     "metadata": {},
     "output_type": "execute_result"
    }
   ],
   "source": [
    "emu = X86Emulator(logging = False)\n",
    "emu.eval_instructions(\"\"\"\n",
    "movq $1, %rax\n",
    "addq $2, %rax\n",
    "addq $3, %rax\n",
    "addq $4, %rax\n",
    "movq %rax, %rdi\"\"\")"
   ]
  },
  {
   "cell_type": "markdown",
   "metadata": {},
   "source": [
    "## Question 6\n",
    "\n",
    "Write a complete x86 program to:\n",
    "\n",
    "- Place the number 42 in the register `rdi`\n",
    "- Call the function `print_int` in the runtime\n",
    "- Return cleanly to the operating system\n",
    "\n",
    "Hint: try using the [Assignment 1 online compiler](https://jnear.w3.uvm.edu/cs3020/compiler-a1.php)."
   ]
  },
  {
   "cell_type": "code",
   "execution_count": 35,
   "metadata": {},
   "outputs": [
    {
     "data": {
      "text/plain": [
       "[42]"
      ]
     },
     "execution_count": 35,
     "metadata": {},
     "output_type": "execute_result"
    }
   ],
   "source": [
    "emu = X86Emulator(logging = False)\n",
    "emu.eval_program(\"\"\"\n",
    ".globl main\n",
    "main:\n",
    "  movq $42, %rdi\n",
    "  callq print_int\n",
    "  retq\"\"\")"
   ]
  },
  {
   "cell_type": "markdown",
   "metadata": {},
   "source": [
    "## Question 7\n",
    "\n",
    "Write code to generate a *pseudo-x86 abstract syntax tree* for the `main` block in the program above.\n",
    "\n",
    "Hint: reference the [pseudo-x86 AST class hierarchy](https://github.com/jnear/cs3020-assignments/blob/main/cs3020_support/x86.py). Debug your solution using the online compiler's output for the `select instructions` pass."
   ]
  },
  {
   "cell_type": "code",
   "execution_count": 38,
   "metadata": {},
   "outputs": [
    {
     "name": "stdout",
     "output_type": "stream",
     "text": [
      "X86Program(\n",
      " {\n",
      "  'main':\n",
      "   [\n",
      "    Movq(\n",
      "     Immediate(42),\n",
      "     Reg(\"rdi\")),\n",
      "    Callq(\"print_int\"),\n",
      "    Retq()\n",
      "   ]\n",
      " },\n",
      " None)\n"
     ]
    }
   ],
   "source": [
    "import cs3020_support.x86 as x86\n",
    "\n",
    "ast = x86.X86Program( # x86 program is a dict mapping labels to lists of instrs\n",
    " {\n",
    "  'main':\n",
    "   [\n",
    "    x86.Movq(\n",
    "     x86.Immediate(42), # encodes $42\n",
    "     x86.Reg(\"rdi\")),   # encodes %rdi\n",
    "    x86.Callq(\"print_int\"), # encodes callq print_int\n",
    "    x86.Retq()              # encodes retq\n",
    "   ]\n",
    " })\n",
    "\n",
    "print(print_ast(ast))"
   ]
  },
  {
   "cell_type": "markdown",
   "metadata": {},
   "source": [
    "## Question 8\n",
    "\n",
    "What is the purpose of the `select_instructions` pass of the compiler? How should it be implemented?"
   ]
  },
  {
   "cell_type": "markdown",
   "metadata": {},
   "source": [
    "- The pass transforms a Python program AST into an X86 assembly language AST\n",
    "- It works by matching on the structure of the input Python program, then returning a new X86 program AST"
   ]
  },
  {
   "cell_type": "code",
   "execution_count": null,
   "metadata": {},
   "outputs": [],
   "source": []
  }
 ],
 "metadata": {
  "kernelspec": {
   "display_name": "Python 3 (ipykernel)",
   "language": "python",
   "name": "python3"
  },
  "language_info": {
   "codemirror_mode": {
    "name": "ipython",
    "version": 3
   },
   "file_extension": ".py",
   "mimetype": "text/x-python",
   "name": "python",
   "nbconvert_exporter": "python",
   "pygments_lexer": "ipython3",
   "version": "3.10.13"
  }
 },
 "nbformat": 4,
 "nbformat_minor": 4
}
