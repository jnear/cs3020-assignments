{
 "cells": [
  {
   "cell_type": "markdown",
   "metadata": {},
   "source": [
    "# CS3020: Compiler Construction\n",
    "\n",
    "## In-class Exercises, Week of 02/17/2025\n",
    "\n",
    "----"
   ]
  },
  {
   "cell_type": "markdown",
   "metadata": {},
   "source": [
    "# Assignment 4 Strategy"
   ]
  },
  {
   "cell_type": "markdown",
   "metadata": {},
   "source": [
    "## Question 1\n",
    "\n",
    "List the major differences between $\\mathcal{L}_{var}$ and $\\mathcal{L}_{if}$, and the required corresponding changes to the compiler."
   ]
  },
  {
   "cell_type": "markdown",
   "metadata": {},
   "source": [
    "YOUR ANSWER HERE"
   ]
  },
  {
   "cell_type": "markdown",
   "metadata": {},
   "source": [
    "## Question 2\n",
    "\n",
    "For each pass of the compiler, list major changes. Include new passes."
   ]
  },
  {
   "cell_type": "markdown",
   "metadata": {},
   "source": [
    "YOUR ANSWER HERE"
   ]
  },
  {
   "cell_type": "markdown",
   "metadata": {},
   "source": [
    "## Question 3\n",
    "\n",
    "List the major differences between our source language and that of the textbook."
   ]
  },
  {
   "cell_type": "markdown",
   "metadata": {},
   "source": [
    "YOUR ANSWER HERE"
   ]
  },
  {
   "cell_type": "markdown",
   "metadata": {},
   "source": [
    "----"
   ]
  },
  {
   "cell_type": "markdown",
   "metadata": {},
   "source": [
    "# Typechecking"
   ]
  },
  {
   "cell_type": "markdown",
   "metadata": {},
   "source": [
    "## Question 4\n",
    "\n",
    "What does this program do? What is the type of `x`?\n",
    "\n",
    "```\n",
    "if 1:\n",
    "  x = 2\n",
    "else:\n",
    "  x = 3\n",
    "```"
   ]
  },
  {
   "cell_type": "markdown",
   "metadata": {},
   "source": [
    "YOUR ANSWER HERE"
   ]
  },
  {
   "cell_type": "markdown",
   "metadata": {},
   "source": [
    "## Question 5\n",
    "\n",
    "What is the type of `x`?\n",
    "\n",
    "```\n",
    "if 5 == 6:\n",
    "  x = 7\n",
    "else:\n",
    "  x = True\n",
    "```"
   ]
  },
  {
   "cell_type": "markdown",
   "metadata": {},
   "source": [
    "YOUR ANSWER HERE"
   ]
  },
  {
   "cell_type": "markdown",
   "metadata": {},
   "source": [
    "## Question 6\n",
    "\n",
    "Fill in the following definition of a typechecker for $L_{if}$ expressions."
   ]
  },
  {
   "cell_type": "code",
   "execution_count": 12,
   "metadata": {},
   "outputs": [],
   "source": [
    "from typing import Dict, List\n",
    "from cs202_support.python import *\n",
    "TEnv = Dict[str, type]\n",
    "\n",
    "def tc_exp(e: Expr, env: TEnv) -> type:\n",
    "    YOUR ANSWER HERE"
   ]
  },
  {
   "cell_type": "markdown",
   "metadata": {},
   "source": [
    "## Question 7\n",
    "\n",
    "Fill in the following definition of a typechecker for $L_{if}$ statements."
   ]
  },
  {
   "cell_type": "code",
   "execution_count": 13,
   "metadata": {},
   "outputs": [
    {
     "name": "stdout",
     "output_type": "stream",
     "text": [
      "Test 1 result: None\n",
      "Test 2 result: Succesfully caught error\n",
      "Test 3 result: None\n",
      "Test 4 result: Succesfully caught error\n"
     ]
    }
   ],
   "source": [
    "def tc_stmt(s: Stmt, env: TEnv):\n",
    "    YOUR ANSWER HERE\n",
    "\n",
    "def tc_stmts(ss: List[Stmt]):\n",
    "    YOUR ANSWER HERE\n",
    "\n",
    "\n",
    "# TEST CASES\n",
    "print('Test 1 result:', tc_stmts(parse('x=5').stmts))\n",
    "\n",
    "error_prog = \"\"\"\n",
    "y = 5\n",
    "y = True\n",
    "\"\"\"\n",
    "\n",
    "try:\n",
    "    print(tc_stmts(parse(error_prog).stmts))\n",
    "except:\n",
    "    print('Test 2 result: Succesfully caught error')\n",
    "\n",
    "good_if_prog = \"\"\"\n",
    "if 5 == 6:\n",
    "    x = 0\n",
    "else:\n",
    "    x = 1\n",
    "x = 2\n",
    "\"\"\"\n",
    "\n",
    "print('Test 3 result:', tc_stmts(parse(good_if_prog).stmts))\n",
    "\n",
    "error_if_prog = \"\"\"\n",
    "if 5 == 6:\n",
    "    y = 5\n",
    "else:\n",
    "    y = True\n",
    "\"\"\"\n",
    "\n",
    "try:\n",
    "    print(tc_stmts(parse(error_if_prog).body))\n",
    "except:\n",
    "    print('Test 4 result: Succesfully caught error')\n"
   ]
  },
  {
   "cell_type": "markdown",
   "metadata": {},
   "source": [
    "----"
   ]
  },
  {
   "cell_type": "markdown",
   "metadata": {},
   "source": [
    "# RCO"
   ]
  },
  {
   "cell_type": "markdown",
   "metadata": {},
   "source": [
    "## Question 8\n",
    "\n",
    "How do we handle `if` statements in rco?"
   ]
  },
  {
   "cell_type": "markdown",
   "metadata": {},
   "source": [
    "YOUR ANSWER HERE"
   ]
  },
  {
   "cell_type": "markdown",
   "metadata": {},
   "source": [
    "----\n",
    "# Explicate-Control"
   ]
  },
  {
   "cell_type": "markdown",
   "metadata": {},
   "source": [
    "## Question 9\n",
    "\n",
    "Describe the idea behind the explicate-control pass."
   ]
  },
  {
   "cell_type": "markdown",
   "metadata": {},
   "source": [
    "YOUR ANSWER HERE"
   ]
  },
  {
   "cell_type": "markdown",
   "metadata": {},
   "source": [
    "## Question 10\n",
    "\n",
    "Compile this program into a $C_{if}$ program, describing the input and output of explicate-control.\n",
    "\n",
    "```\n",
    "if 5 == 6:\n",
    "    print(1)\n",
    "else:\n",
    "    print(0)\n",
    "```"
   ]
  },
  {
   "cell_type": "markdown",
   "metadata": {},
   "source": [
    "YOUR ANSWER HERE"
   ]
  },
  {
   "cell_type": "markdown",
   "metadata": {},
   "source": [
    "## Question 11\n",
    "\n",
    "Describe the structure of `explicate_control`."
   ]
  },
  {
   "cell_type": "markdown",
   "metadata": {},
   "source": [
    "YOUR ANSWER HERE"
   ]
  }
 ],
 "metadata": {
  "kernelspec": {
   "display_name": "Python 3 (ipykernel)",
   "language": "python",
   "name": "python3"
  },
  "language_info": {
   "codemirror_mode": {
    "name": "ipython",
    "version": 3
   },
   "file_extension": ".py",
   "mimetype": "text/x-python",
   "name": "python",
   "nbconvert_exporter": "python",
   "pygments_lexer": "ipython3",
   "version": "3.10.13"
  }
 },
 "nbformat": 4,
 "nbformat_minor": 4
}
