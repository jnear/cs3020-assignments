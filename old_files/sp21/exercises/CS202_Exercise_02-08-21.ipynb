{
 "cells": [
  {
   "cell_type": "markdown",
   "metadata": {},
   "source": [
    "# CS202: Compiler Construction\n",
    "\n",
    "## In-class Exercises, Week of 02/08/2021"
   ]
  },
  {
   "cell_type": "markdown",
   "metadata": {},
   "source": [
    "----\n",
    "# PART I: Rvar language & interpreter"
   ]
  },
  {
   "cell_type": "markdown",
   "metadata": {},
   "source": [
    "The abstract syntax definition for RVar is below."
   ]
  },
  {
   "cell_type": "code",
   "execution_count": 1,
   "metadata": {},
   "outputs": [],
   "source": [
    "from dataclasses import dataclass\n",
    "from typing import List, Set, Dict, Tuple\n",
    "from cs202_support.base_ast import AST, print_ast\n",
    "\n",
    "@dataclass\n",
    "class RVarExp(AST):\n",
    "    pass\n",
    "\n",
    "@dataclass\n",
    "class Int(RVarExp):\n",
    "    val: int\n",
    "\n",
    "@dataclass\n",
    "class Var(RVarExp):\n",
    "    var: str\n",
    "\n",
    "@dataclass\n",
    "class Let(RVarExp):\n",
    "    x: str\n",
    "    e1: RVarExp\n",
    "    body: RVarExp\n",
    "\n",
    "@dataclass\n",
    "class Prim(RVarExp):\n",
    "    op: str\n",
    "    args: List[RVarExp]\n"
   ]
  },
  {
   "cell_type": "markdown",
   "metadata": {},
   "source": [
    "## Question 1\n",
    "\n",
    "Write an abstract syntax tree for the program: `let x = 5 in x + 3`."
   ]
  },
  {
   "cell_type": "code",
   "execution_count": 2,
   "metadata": {},
   "outputs": [
    {
     "name": "stdout",
     "output_type": "stream",
     "text": [
      "Let(\n",
      " x,\n",
      " Int(5),\n",
      " Prim(\n",
      "  +,\n",
      "  [\n",
      "   Var(x),\n",
      "   Int(3)\n",
      "  ]))\n"
     ]
    }
   ],
   "source": [
    "ast = Let('x', Int(5), Prim('+', [Var('x'), Int(3)]))\n",
    "print(print_ast(ast))"
   ]
  },
  {
   "cell_type": "markdown",
   "metadata": {},
   "source": [
    "## Question 2\n",
    "\n",
    "What is the value of the program in question 1?"
   ]
  },
  {
   "cell_type": "markdown",
   "metadata": {},
   "source": [
    "YOUR ANSWER HERE"
   ]
  },
  {
   "cell_type": "markdown",
   "metadata": {},
   "source": [
    "## Question 3\n",
    "\n",
    "Write an interpreter for Rvar."
   ]
  },
  {
   "cell_type": "code",
   "execution_count": 3,
   "metadata": {},
   "outputs": [],
   "source": [
    "def eval_rvar(e: RVarExp) -> int:\n",
    "    YOUR ANSWER HERE"
   ]
  },
  {
   "cell_type": "code",
   "execution_count": 4,
   "metadata": {},
   "outputs": [
    {
     "data": {
      "text/plain": [
       "8"
      ]
     },
     "execution_count": 4,
     "metadata": {},
     "output_type": "execute_result"
    }
   ],
   "source": [
    "# TEST CASE\n",
    "eval_rvar(ast)"
   ]
  },
  {
   "cell_type": "markdown",
   "metadata": {},
   "source": [
    "## Question 4\n",
    "\n",
    "What is the value of the following program?"
   ]
  },
  {
   "cell_type": "code",
   "execution_count": 5,
   "metadata": {},
   "outputs": [
    {
     "name": "stdout",
     "output_type": "stream",
     "text": [
      "Let(\n",
      " x,\n",
      " Int(5),\n",
      " Let(\n",
      "  x,\n",
      "  Int(6),\n",
      "  Var(x)))\n"
     ]
    }
   ],
   "source": [
    "ast = Let('x', Int(5), Let('x', Int(6), Var('x')))\n",
    "print(print_ast(ast))"
   ]
  },
  {
   "cell_type": "markdown",
   "metadata": {},
   "source": [
    "YOUR ANSWER HERE"
   ]
  },
  {
   "cell_type": "markdown",
   "metadata": {},
   "source": [
    "----\n",
    "# PART II: uniquify"
   ]
  },
  {
   "cell_type": "markdown",
   "metadata": {},
   "source": [
    "## Question 5\n",
    "\n",
    "Why do we need this pass?"
   ]
  },
  {
   "cell_type": "markdown",
   "metadata": {},
   "source": [
    "YOUR ANSWER HERE"
   ]
  },
  {
   "cell_type": "markdown",
   "metadata": {},
   "source": [
    "## Question 6\n",
    "\n",
    "Write a new version of the program from above such that all the variable names are unique."
   ]
  },
  {
   "cell_type": "code",
   "execution_count": 6,
   "metadata": {},
   "outputs": [
    {
     "name": "stdout",
     "output_type": "stream",
     "text": [
      "Let(\n",
      " x,\n",
      " Int(5),\n",
      " Let(\n",
      "  x,\n",
      "  Int(6),\n",
      "  Var(x)))\n"
     ]
    }
   ],
   "source": [
    "ast = Let('x', Int(5), Let('x', Int(6), Var('x')))\n",
    "print(print_ast(ast))"
   ]
  },
  {
   "cell_type": "code",
   "execution_count": 1,
   "metadata": {},
   "outputs": [
    {
     "ename": "SyntaxError",
     "evalue": "invalid syntax (<ipython-input-1-94639480b144>, line 1)",
     "output_type": "error",
     "traceback": [
      "\u001b[0;36m  File \u001b[0;32m\"<ipython-input-1-94639480b144>\"\u001b[0;36m, line \u001b[0;32m1\u001b[0m\n\u001b[0;31m    unique_ast = YOUR ANSWER HERE\u001b[0m\n\u001b[0m                           ^\u001b[0m\n\u001b[0;31mSyntaxError\u001b[0m\u001b[0;31m:\u001b[0m invalid syntax\n"
     ]
    }
   ],
   "source": [
    "unique_ast = YOUR ANSWER HERE\n",
    "print(print_ast(unique_ast))"
   ]
  },
  {
   "cell_type": "markdown",
   "metadata": {},
   "source": [
    "## Question 7\n",
    "\n",
    "Describe a recursive function for making variable names unique."
   ]
  },
  {
   "cell_type": "markdown",
   "metadata": {},
   "source": [
    "YOUR ANSWER HERE"
   ]
  },
  {
   "cell_type": "markdown",
   "metadata": {},
   "source": [
    "## Question 8\n",
    "\n",
    "What does the environment look like when `uniquify` gets to the expression `Prim('+', [Var('x'), Int(6)])`? What about when it gets to the expression `Var('x')`?"
   ]
  },
  {
   "cell_type": "code",
   "execution_count": 8,
   "metadata": {},
   "outputs": [],
   "source": [
    "YOUR ANSWER HERE"
   ]
  },
  {
   "cell_type": "markdown",
   "metadata": {},
   "source": [
    "----\n",
    "# PART III: remove-complex-opera*"
   ]
  },
  {
   "cell_type": "markdown",
   "metadata": {},
   "source": [
    "## Question 8\n",
    "\n",
    "Consider this translation of an expression to assembly language. What is wrong with it?"
   ]
  },
  {
   "cell_type": "code",
   "execution_count": 13,
   "metadata": {},
   "outputs": [
    {
     "name": "stdout",
     "output_type": "stream",
     "text": [
      "Prim(\n",
      " +,\n",
      " [\n",
      "  Int(1),\n",
      "  Prim(\n",
      "   +,\n",
      "   [\n",
      "    Int(2),\n",
      "    Int(3)\n",
      "   ])\n",
      " ])\n"
     ]
    }
   ],
   "source": [
    "ast = Prim('+', [Int(1), Prim('+', [Int(2), Int(3)])])\n",
    "print(print_ast(ast))\n",
    "\n",
    "asm = \"\"\"\n",
    "movq $2, %rax\n",
    "addq $1, (addq $3, %rax)\n",
    "\"\"\""
   ]
  },
  {
   "cell_type": "markdown",
   "metadata": {},
   "source": [
    "YOUR ANSWER HERE"
   ]
  },
  {
   "cell_type": "markdown",
   "metadata": {},
   "source": [
    "## Question 9\n",
    "\n",
    "Which AST nodes in the language RVar are **atomic**?"
   ]
  },
  {
   "cell_type": "markdown",
   "metadata": {},
   "source": [
    "YOUR ANSWER HERE"
   ]
  },
  {
   "cell_type": "markdown",
   "metadata": {},
   "source": [
    "## Question 10\n",
    "\n",
    "Why do we need this pass? What is the form of its output?"
   ]
  },
  {
   "cell_type": "markdown",
   "metadata": {},
   "source": [
    "YOUR ANSWER HERE"
   ]
  },
  {
   "cell_type": "markdown",
   "metadata": {},
   "source": [
    "## Question 11\n",
    "\n",
    "Convert the program from earlier into A-normal form."
   ]
  },
  {
   "cell_type": "code",
   "execution_count": 14,
   "metadata": {},
   "outputs": [
    {
     "name": "stdout",
     "output_type": "stream",
     "text": [
      "Prim(\n",
      " +,\n",
      " [\n",
      "  Int(1),\n",
      "  Prim(\n",
      "   +,\n",
      "   [\n",
      "    Int(2),\n",
      "    Int(3)\n",
      "   ])\n",
      " ])\n"
     ]
    }
   ],
   "source": [
    "ast = Prim('+', [Int(1), Prim('+', [Int(2), Int(3)])])\n",
    "print(print_ast(ast))"
   ]
  },
  {
   "cell_type": "code",
   "execution_count": 16,
   "metadata": {},
   "outputs": [],
   "source": [
    "anf_ast = YOUR ANSWER HERE"
   ]
  },
  {
   "cell_type": "markdown",
   "metadata": {},
   "source": [
    "## Question 12\n",
    "\n",
    "Describe a recursive procedure to perform the *remove-complex-opera* pass."
   ]
  },
  {
   "cell_type": "markdown",
   "metadata": {},
   "source": [
    "YOUR ANSWER HERE"
   ]
  }
 ],
 "metadata": {
  "kernelspec": {
   "display_name": "Python 3",
   "language": "python",
   "name": "python3"
  },
  "language_info": {
   "codemirror_mode": {
    "name": "ipython",
    "version": 3
   },
   "file_extension": ".py",
   "mimetype": "text/x-python",
   "name": "python",
   "nbconvert_exporter": "python",
   "pygments_lexer": "ipython3",
   "version": "3.7.7"
  }
 },
 "nbformat": 4,
 "nbformat_minor": 2
}
