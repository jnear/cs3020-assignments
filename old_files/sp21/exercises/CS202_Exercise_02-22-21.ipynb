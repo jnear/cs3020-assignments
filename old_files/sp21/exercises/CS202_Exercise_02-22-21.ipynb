{
 "cells": [
  {
   "cell_type": "markdown",
   "metadata": {},
   "source": [
    "# CS202: Compiler Construction\n",
    "\n",
    "## In-class Exercises, Week of 02/22/2021\n",
    "\n",
    "----"
   ]
  },
  {
   "cell_type": "markdown",
   "metadata": {},
   "source": [
    "# Register allocation\n",
    "\n",
    "*Register allocation* is the process of assigning register locations to program variables."
   ]
  },
  {
   "cell_type": "markdown",
   "metadata": {},
   "source": [
    "## Question 1\n",
    "\n",
    "Why is register allocation important?"
   ]
  },
  {
   "cell_type": "markdown",
   "metadata": {},
   "source": [
    "**YOUR SOLUTION HERE**"
   ]
  },
  {
   "cell_type": "markdown",
   "metadata": {},
   "source": [
    "## Question 2\n",
    "\n",
    "Consider the program:\n",
    "\n",
    "```\n",
    "let x = 5\n",
    "in let y = x + 6\n",
    "in y + 7\n",
    "```\n",
    "\n",
    "Here is the equivalent in x86 assembly, using the stack to hold variable values.\n",
    "\n",
    "```\n",
    "...\n",
    "start:\n",
    "  movq $5, -8(%rbp)\n",
    "  movq -8(%rbp), %rax\n",
    "  movq %rax, -16(%rbp)\n",
    "  addq $6, -16(%rbp)\n",
    "  movq -16(%rbp), %rax\n",
    "  movq %rax, -24(%rbp)\n",
    "  addq $7, -24(%rbp)\n",
    "  movq -24(%rbp), %rax\n",
    "  jmp conclusion\n",
    "...\n",
    "```\n",
    "\n",
    "Convert this program into one that only uses registers."
   ]
  },
  {
   "cell_type": "markdown",
   "metadata": {},
   "source": [
    "**YOUR SOLUTION HERE**"
   ]
  },
  {
   "cell_type": "markdown",
   "metadata": {},
   "source": [
    "## Question 3\n",
    "\n",
    "How many registers are *actually needed* to represent this program?"
   ]
  },
  {
   "cell_type": "markdown",
   "metadata": {},
   "source": [
    "**YOUR SOLUTION HERE**"
   ]
  },
  {
   "cell_type": "markdown",
   "metadata": {},
   "source": [
    "## Question 4\n",
    "\n",
    "Why is *optimal* register allocation hard?"
   ]
  },
  {
   "cell_type": "markdown",
   "metadata": {},
   "source": [
    "**YOUR SOLUTION HERE**"
   ]
  },
  {
   "cell_type": "markdown",
   "metadata": {},
   "source": [
    "## Note\n",
    "\n",
    "Our solution to register allocation will involve three parts:\n",
    "\n",
    "1. [*Liveness analysis*](https://en.wikipedia.org/wiki/Live_variable_analysis), to understand when a variable's value is no longer needed\n",
    "2. Building an *interference graph* with edges between variables that cannot share a register\n",
    "3. Allocating registers to variables by *coloring the interference graph* ([graph coloring](https://en.wikipedia.org/wiki/Graph_coloring) is NP-hard)"
   ]
  },
  {
   "cell_type": "markdown",
   "metadata": {},
   "source": [
    "----"
   ]
  },
  {
   "cell_type": "markdown",
   "metadata": {},
   "source": [
    "# Liveness Analysis\n",
    "\n",
    "Our first pass will perform a *liveness analysis* on the program."
   ]
  },
  {
   "cell_type": "markdown",
   "metadata": {},
   "source": [
    "## Question 5\n",
    "\n",
    "Here is the pseudo-x86 equivalent of the program from earlier, written in x86 assembly syntax:\n",
    "\n",
    "```\n",
    "start:\n",
    " movq $5, x\n",
    " movq x, y\n",
    " addq $6, y\n",
    " movq y, r\n",
    " addq $7, r\n",
    " movq r, %rax\n",
    "```\n",
    "\n",
    "In the table below, annotate each instruction with its *live-after set*.\n",
    "\n",
    "Use the following rule to determine the live-after set for instruction $k$:\n",
    "\n",
    "\\begin{align}\n",
    "L_{after}(k) = (L_{after}(k+1) − W (k+1)) \\cup R(k+1)\n",
    "\\end{align}\n",
    "\n",
    "where $W$ means the variables written by the instruction, and $R$ means the variables read by an instruction. See section 3.2 in the textbook for more."
   ]
  },
  {
   "cell_type": "markdown",
   "metadata": {},
   "source": [
    "**YOUR SOLUTION HERE**"
   ]
  },
  {
   "cell_type": "markdown",
   "metadata": {},
   "source": [
    "## Question 6\n",
    "\n",
    "Describe the live-after pass in the compiler."
   ]
  },
  {
   "cell_type": "markdown",
   "metadata": {},
   "source": [
    "**YOUR SOLUTION HERE**"
   ]
  },
  {
   "cell_type": "markdown",
   "metadata": {},
   "source": [
    "----"
   ]
  },
  {
   "cell_type": "markdown",
   "metadata": {},
   "source": [
    "# Interference Graph\n",
    "\n",
    "Our second pass will build an *interference graph* using the live-after sets computed earlier. The interference graph is an undirected graph with a node for each program variable, and an edge between each pair of variables which may *not* share a home."
   ]
  },
  {
   "cell_type": "markdown",
   "metadata": {},
   "source": [
    "## Question 7\n",
    "\n",
    "Using the instructions and live-after sets from question 5, draw the interference graph.\n",
    "\n",
    "Use the following principle: *the writes performed by an instruction must not overwrite something in a live location*."
   ]
  },
  {
   "cell_type": "markdown",
   "metadata": {},
   "source": [
    "**YOUR SOLUTION HERE**"
   ]
  },
  {
   "cell_type": "markdown",
   "metadata": {},
   "source": [
    "## Question 8\n",
    "\n",
    "Using the instructions and live-after sets below, draw the interference graph.\n",
    "\n",
    "| Instruction    | Live-After Set |\n",
    "| :------------- | :------------- |\n",
    "| `start:`       | {} |\n",
    "| `movq $1, a`   | {a}|\n",
    "| `movq $2, b`   | {a, b} |\n",
    "| `movq $3, c`   | {a, b, c} |\n",
    "| `movq a, t`    | {b, c, t} |\n",
    "| `addq b, t`    | {c, t} |\n",
    "| `movq t, r`    | {c, r} |\n",
    "| `addq c, r`    | {r} |\n",
    "| `movq r, %rax` | {}  |\n"
   ]
  },
  {
   "cell_type": "markdown",
   "metadata": {},
   "source": [
    "**YOUR SOLUTION HERE**"
   ]
  },
  {
   "cell_type": "markdown",
   "metadata": {},
   "source": [
    "## Question 9\n",
    "\n",
    "What variables in the above graph can share a register? What variables can't?"
   ]
  },
  {
   "cell_type": "markdown",
   "metadata": {},
   "source": [
    "**YOUR SOLUTION HERE**"
   ]
  }
 ],
 "metadata": {
  "kernelspec": {
   "display_name": "Python 3",
   "language": "python",
   "name": "python3"
  },
  "language_info": {
   "codemirror_mode": {
    "name": "ipython",
    "version": 3
   },
   "file_extension": ".py",
   "mimetype": "text/x-python",
   "name": "python",
   "nbconvert_exporter": "python",
   "pygments_lexer": "ipython3",
   "version": "3.6.7"
  }
 },
 "nbformat": 4,
 "nbformat_minor": 4
}
