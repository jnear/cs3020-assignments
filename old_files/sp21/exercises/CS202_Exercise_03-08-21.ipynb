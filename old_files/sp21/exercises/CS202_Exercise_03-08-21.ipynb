{
 "cells": [
  {
   "cell_type": "markdown",
   "metadata": {},
   "source": [
    "# CS202: Compiler Construction\n",
    "\n",
    "## In-class Exercises, Week of 03/08/2021\n",
    "\n",
    "----"
   ]
  },
  {
   "cell_type": "markdown",
   "metadata": {},
   "source": [
    "# Part 1: Conditionals"
   ]
  },
  {
   "cell_type": "markdown",
   "metadata": {},
   "source": [
    "## Question 1\n",
    "\n",
    "The following grammar defines the *concrete syntax* for $R_{if}$.\n",
    "\n",
    "\\begin{align*}\n",
    "b &::= \\texttt{True} \\mid \\texttt{False}\\\\\n",
    "cmp &::= \\texttt{==} \\mid \\texttt{!=} \\mid \\texttt{&&} \\mid \\texttt{||} \\\\\n",
    "exp &::= n \\mid b \\\\\n",
    "&\\mid exp + exp \\\\\n",
    "&\\mid \\text{let}\\; x = exp\\; \\text{in}\\; exp\\\\\n",
    "&\\mid \\text{if}\\; exp\\; \\text{then}\\; exp\\; \\text{else}\\; exp\\\\\n",
    "&\\mid exp\\; cmp\\; exp\\\\\n",
    "\\end{align*}\n",
    "\n",
    "Write a program that returns 42 if 5 equals 6, and 0 otherwise."
   ]
  },
  {
   "cell_type": "markdown",
   "metadata": {},
   "source": [
    "**YOUR SOLUTION HERE**"
   ]
  },
  {
   "cell_type": "markdown",
   "metadata": {},
   "source": [
    "## Question 2\n",
    "\n",
    "Write the same program in x86 assembly language."
   ]
  },
  {
   "cell_type": "markdown",
   "metadata": {},
   "source": [
    "**YOUR SOLUTION HERE**"
   ]
  },
  {
   "cell_type": "markdown",
   "metadata": {},
   "source": [
    "## Question 3\n",
    "\n",
    "Convert the following program to x86 assembly:\n",
    "\n",
    "```\n",
    "let result = if 5 == 6 then 0 else 40\n",
    "in result + 2\n",
    "```"
   ]
  },
  {
   "cell_type": "markdown",
   "metadata": {},
   "source": [
    "**YOUR SOLUTION HERE**"
   ]
  },
  {
   "cell_type": "markdown",
   "metadata": {},
   "source": [
    "## Question 4\n",
    "\n",
    "Describe a strategy for converting `if` expressions into x86 assembly."
   ]
  },
  {
   "cell_type": "markdown",
   "metadata": {},
   "source": [
    "**YOUR SOLUTION HERE**"
   ]
  },
  {
   "cell_type": "markdown",
   "metadata": {},
   "source": [
    "**Notes:**\n",
    "- `if` is a structure for *control flow*\n",
    "- A [control flow graph](https://en.wikipedia.org/wiki/Control-flow_graph) can express x86 programs with control flow"
   ]
  },
  {
   "cell_type": "markdown",
   "metadata": {},
   "source": [
    "----"
   ]
  },
  {
   "cell_type": "markdown",
   "metadata": {},
   "source": [
    "# Part 2: Typechecking"
   ]
  },
  {
   "cell_type": "markdown",
   "metadata": {},
   "source": [
    "## Question 5\n",
    "\n",
    "What is the value of the following program? What is its type?\n",
    "\n",
    "```\n",
    "if 1\n",
    "then 2\n",
    "else 3\n",
    "```"
   ]
  },
  {
   "cell_type": "markdown",
   "metadata": {},
   "source": [
    "**YOUR SOLUTION HERE**"
   ]
  },
  {
   "cell_type": "markdown",
   "metadata": {},
   "source": [
    "## Question 6\n",
    "\n",
    "What is the value of the following program?\n",
    "\n",
    "```\n",
    "if 5 == 6\n",
    "then 7\n",
    "else True\n",
    "```"
   ]
  },
  {
   "cell_type": "markdown",
   "metadata": {},
   "source": [
    "**YOUR SOLUTION HERE**"
   ]
  },
  {
   "cell_type": "markdown",
   "metadata": {},
   "source": [
    "## Question 7\n",
    "\n",
    "Fill in the following definition of a typechecker for $R_{if}$."
   ]
  },
  {
   "cell_type": "code",
   "execution_count": 5,
   "metadata": {},
   "outputs": [],
   "source": [
    "def tc_exp(e, env):\n",
    "    if isinstance(e, Var):\n",
    "        **YOUR SOLUTION HERE**\n",
    "    elif isinstance(e, Prim) and e.op == '+':\n",
    "        **YOUR SOLUTION HERE**\n",
    "    elif isinstance(e, If):\n",
    "        **YOUR SOLUTION HERE**\n",
    "    elif isinstance(e, Let):\n",
    "        **YOUR SOLUTION HERE**"
   ]
  },
  {
   "cell_type": "markdown",
   "metadata": {},
   "source": [
    "----"
   ]
  },
  {
   "cell_type": "markdown",
   "metadata": {},
   "source": [
    "# Part 3: Explicate-Control"
   ]
  },
  {
   "cell_type": "markdown",
   "metadata": {},
   "source": [
    "## Question 8\n",
    "\n",
    "Describe the structure of the changes to `explicate-control`."
   ]
  },
  {
   "cell_type": "markdown",
   "metadata": {},
   "source": [
    "**YOUR SOLUTION HERE**"
   ]
  },
  {
   "cell_type": "markdown",
   "metadata": {},
   "source": [
    "## Question 9\n",
    "\n",
    "Compile the program from earlier into a $C_{if}$ program, describing the input and output of `ec_pred`.\n",
    "\n",
    "```\n",
    "let result = if 5 == 6 then 0 else 40\n",
    "in result + 2\n",
    "```"
   ]
  },
  {
   "cell_type": "markdown",
   "metadata": {},
   "source": [
    "**YOUR SOLUTION HERE**"
   ]
  }
 ],
 "metadata": {
  "kernelspec": {
   "display_name": "Python 3",
   "language": "python",
   "name": "python3"
  },
  "language_info": {
   "codemirror_mode": {
    "name": "ipython",
    "version": 3
   },
   "file_extension": ".py",
   "mimetype": "text/x-python",
   "name": "python",
   "nbconvert_exporter": "python",
   "pygments_lexer": "ipython3",
   "version": "3.6.7"
  }
 },
 "nbformat": 4,
 "nbformat_minor": 4
}
