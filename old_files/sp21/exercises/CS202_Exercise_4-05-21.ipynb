{
 "cells": [
  {
   "cell_type": "markdown",
   "metadata": {},
   "source": [
    "# CS202: Compiler Construction\n",
    "\n",
    "## In-class Exercises, Week of 04/05/2021\n",
    "\n",
    "----"
   ]
  },
  {
   "cell_type": "code",
   "execution_count": 10,
   "metadata": {},
   "outputs": [],
   "source": [
    "from cs202_support.eval_x86 import X86Emulator\n",
    "\n",
    "init = \"\"\"\n",
    "  .globl main\n",
    "main:\n",
    "  movq $16384, %rdi\n",
    "  movq $16, %rsi\n",
    "  callq initialize\n",
    "  movq rootstack_begin(%rip), %r15\n",
    "\"\"\""
   ]
  },
  {
   "cell_type": "markdown",
   "metadata": {},
   "source": [
    "# Part 1: expose-allocation"
   ]
  },
  {
   "cell_type": "markdown",
   "metadata": {},
   "source": [
    "## Question 1\n",
    "\n",
    "Consider the program:\n",
    "\n",
    "```\n",
    "vector(1)\n",
    "```\n",
    "\n",
    "Write the output of the `expose-allocation` pass."
   ]
  },
  {
   "cell_type": "markdown",
   "metadata": {},
   "source": [
    "**Your solution here**"
   ]
  },
  {
   "cell_type": "markdown",
   "metadata": {},
   "source": [
    "## Question 2\n",
    "\n",
    "Describe the steps taken by the output code for a `vector(...)` form in `expose-allocation`."
   ]
  },
  {
   "cell_type": "markdown",
   "metadata": {},
   "source": [
    "**Your solution here**"
   ]
  },
  {
   "cell_type": "markdown",
   "metadata": {},
   "source": [
    "----"
   ]
  },
  {
   "cell_type": "markdown",
   "metadata": {},
   "source": [
    "# Part 2: select-instructions"
   ]
  },
  {
   "cell_type": "markdown",
   "metadata": {},
   "source": [
    "## Question 3\n",
    "\n",
    "Write x86 instructions corresponding to the output of `select-instructions` on the following `assign` statement:\n",
    "\n",
    "```\n",
    "Assign(vec_3, Prim(allocate, [Int(1)], VectorT([IntT()])), True),\n",
    "```"
   ]
  },
  {
   "cell_type": "markdown",
   "metadata": {},
   "source": [
    "**Your solution here**"
   ]
  },
  {
   "cell_type": "code",
   "execution_count": null,
   "metadata": {},
   "outputs": [],
   "source": [
    "asm = init + \"\"\"\n",
    "  optional: your solution here\n",
    "\"\"\"\n",
    "\n",
    "emu = X86Emulator(logging=False)\n",
    "emu.eval_program(asm)\n",
    "emu.print_state()"
   ]
  },
  {
   "cell_type": "markdown",
   "metadata": {},
   "source": [
    "## Question 4\n",
    "\n",
    "Write x86 instructions corresponding to the output of `select-instructions` on the following statement:\n",
    "\n",
    "```\n",
    "Collect(16)\n",
    "```"
   ]
  },
  {
   "cell_type": "markdown",
   "metadata": {},
   "source": [
    "**Your solution here**"
   ]
  },
  {
   "cell_type": "markdown",
   "metadata": {},
   "source": [
    "## Question 5\n",
    "\n",
    "Write x86 instructions corresponding to the output of `select-instructions` on the following statements:\n",
    "\n",
    "a. `Prim(vectorRef, [Var(vec_3, VectorT([IntT()])), Int(0)], IntT())`\n",
    "\n",
    "b. `Prim(vectorSet, [Var(vec_3, VectorT([IntT()])), Int(0), Int(2)], VoidT())`"
   ]
  },
  {
   "cell_type": "markdown",
   "metadata": {},
   "source": [
    "**Your solution here**"
   ]
  },
  {
   "cell_type": "code",
   "execution_count": null,
   "metadata": {},
   "outputs": [],
   "source": [
    "asm = init + \"\"\"\n",
    "  optional: your solution here\n",
    "\"\"\"\n",
    "\n",
    "emu = X86Emulator(logging=False)\n",
    "emu.eval_program(asm)\n",
    "emu.print_state()"
   ]
  },
  {
   "cell_type": "markdown",
   "metadata": {},
   "source": [
    "----"
   ]
  },
  {
   "cell_type": "markdown",
   "metadata": {},
   "source": [
    "# Part 3: register allocation"
   ]
  },
  {
   "cell_type": "markdown",
   "metadata": {},
   "source": [
    "## Question 6\n",
    "\n",
    "Why do we need to ensure that vector-valued variables are spilled when we call the collector? How can we accomplish this?"
   ]
  },
  {
   "cell_type": "markdown",
   "metadata": {},
   "source": [
    "**Your solution here**"
   ]
  },
  {
   "cell_type": "markdown",
   "metadata": {},
   "source": [
    "## Question 7\n",
    "\n",
    "How can we modify register allocation to ensure that vector-valued variables get spilled to the root stack, and non-vector-valued variables get spilled to the regular stack?"
   ]
  },
  {
   "cell_type": "markdown",
   "metadata": {},
   "source": [
    "**Your solution here**"
   ]
  },
  {
   "cell_type": "markdown",
   "metadata": {},
   "source": [
    "----"
   ]
  },
  {
   "cell_type": "markdown",
   "metadata": {},
   "source": [
    "# Part 4: print-x86"
   ]
  },
  {
   "cell_type": "markdown",
   "metadata": {},
   "source": [
    "## Question 8\n",
    "\n",
    "Write x86 assembly for the `main` block of the program `vector(1)`."
   ]
  },
  {
   "cell_type": "markdown",
   "metadata": {},
   "source": [
    "**Your solution here**"
   ]
  },
  {
   "cell_type": "markdown",
   "metadata": {},
   "source": [
    "## Question 9\n",
    "\n",
    "What additional code is needed in `main` if the root stack is non-empty? What is this code needed for? Consider e.g. the program:\n",
    "\n",
    "```\n",
    "vector(vector(1))\n",
    "```"
   ]
  },
  {
   "cell_type": "markdown",
   "metadata": {},
   "source": [
    "**Your solution here**"
   ]
  },
  {
   "cell_type": "code",
   "execution_count": null,
   "metadata": {},
   "outputs": [],
   "source": [
    "asm = init + \"\"\"\n",
    "  optional: your solution here\n",
    "\"\"\"\n",
    "\n",
    "emu = X86Emulator(logging=False)\n",
    "emu.eval_program(asm)\n",
    "emu.print_state()"
   ]
  }
 ],
 "metadata": {
  "kernelspec": {
   "display_name": "Python 3",
   "language": "python",
   "name": "python3"
  },
  "language_info": {
   "codemirror_mode": {
    "name": "ipython",
    "version": 3
   },
   "file_extension": ".py",
   "mimetype": "text/x-python",
   "name": "python",
   "nbconvert_exporter": "python",
   "pygments_lexer": "ipython3",
   "version": "3.7.7"
  }
 },
 "nbformat": 4,
 "nbformat_minor": 2
}
