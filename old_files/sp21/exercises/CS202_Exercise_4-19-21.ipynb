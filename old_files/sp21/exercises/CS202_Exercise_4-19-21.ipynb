{
 "cells": [
  {
   "cell_type": "markdown",
   "metadata": {},
   "source": [
    "# CS202: Compiler Construction\n",
    "\n",
    "## In-class Exercises, Week of 04/19/2021\n",
    "\n",
    "----"
   ]
  },
  {
   "cell_type": "markdown",
   "metadata": {},
   "source": [
    "# Part 1: Typechecking Functions"
   ]
  },
  {
   "cell_type": "markdown",
   "metadata": {},
   "source": [
    "## Question 1\n",
    "\n",
    "How do we typecheck a function call of the form `f(a1, ..., ak)`?"
   ]
  },
  {
   "cell_type": "markdown",
   "metadata": {},
   "source": [
    "**Your solution here**"
   ]
  },
  {
   "cell_type": "markdown",
   "metadata": {},
   "source": [
    "## Question 2\n",
    "\n",
    "How do we typecheck a function definition?"
   ]
  },
  {
   "cell_type": "markdown",
   "metadata": {},
   "source": [
    "**Your solution here**"
   ]
  },
  {
   "cell_type": "markdown",
   "metadata": {},
   "source": [
    "## Question 3\n",
    "\n",
    "How do we typecheck a `Rfun` program?"
   ]
  },
  {
   "cell_type": "markdown",
   "metadata": {},
   "source": [
    "**Your solution here**"
   ]
  },
  {
   "cell_type": "markdown",
   "metadata": {},
   "source": [
    "----"
   ]
  },
  {
   "cell_type": "markdown",
   "metadata": {},
   "source": [
    "# Part 2: Functions in x86 Assembly"
   ]
  },
  {
   "cell_type": "markdown",
   "metadata": {},
   "source": [
    "## Question 4\n",
    "\n",
    "Write an x86 assembly program corresponding to the `add1` program:\n",
    "\n",
    "```\n",
    "def add1(n: Integer): Integer = {\n",
    "  n + 1\n",
    "}\n",
    "add1(41)\n",
    "```"
   ]
  },
  {
   "cell_type": "code",
   "execution_count": null,
   "metadata": {},
   "outputs": [],
   "source": [
    "from cs202_support.eval_x86 import X86Emulator\n",
    "\n",
    "asm = \"\"\"\n",
    "<your solution here>\n",
    "\"\"\"\n",
    "\n",
    "emu = X86Emulator(logging=True)\n",
    "emu.eval_program(asm)\n",
    "emu.print_state()"
   ]
  },
  {
   "cell_type": "markdown",
   "metadata": {},
   "source": [
    "## Question 5\n",
    "\n",
    "Describe the *calling convention* we will use for functions in Rfun."
   ]
  },
  {
   "cell_type": "markdown",
   "metadata": {},
   "source": [
    "**Your solution here**"
   ]
  },
  {
   "cell_type": "markdown",
   "metadata": {},
   "source": [
    "## Question 6\n",
    "\n",
    "Describe the management of the *stack* and *root stack* performed on function entry and exit."
   ]
  },
  {
   "cell_type": "markdown",
   "metadata": {},
   "source": [
    "**Your solution here**"
   ]
  },
  {
   "cell_type": "markdown",
   "metadata": {},
   "source": [
    "## Question 7\n",
    "\n",
    "Modify the program from Question 4 to correctly manage the stack and root stack. Allocate the variable `n` on the stack."
   ]
  },
  {
   "cell_type": "code",
   "execution_count": null,
   "metadata": {},
   "outputs": [],
   "source": [
    "asm = \"\"\"\n",
    "<your solution here>\n",
    "\"\"\"\n",
    "\n",
    "emu = X86Emulator(logging=True)\n",
    "emu.eval_program(asm)\n",
    "emu.print_state()"
   ]
  },
  {
   "cell_type": "markdown",
   "metadata": {},
   "source": [
    "## Question 8\n",
    "\n",
    "Modify the program from Question 7 to save and restore the *callee-saved registers*."
   ]
  },
  {
   "cell_type": "code",
   "execution_count": null,
   "metadata": {},
   "outputs": [],
   "source": [
    "asm = \"\"\"\n",
    "<your solution here>\n",
    "\"\"\"\n",
    "\n",
    "emu = X86Emulator(logging=True)\n",
    "emu.eval_program(asm)\n",
    "emu.print_state()"
   ]
  },
  {
   "cell_type": "markdown",
   "metadata": {},
   "source": [
    "# Part 3: Function Pointers and Tail Calls"
   ]
  },
  {
   "cell_type": "markdown",
   "metadata": {},
   "source": [
    "## Question 9\n",
    "\n",
    "Modify the program from Question 8 to implement the following Rfun program:\n",
    "\n",
    "```\n",
    "def add1(n: Integer): Integer = {\n",
    "  n + 1\n",
    "}\n",
    "let f = add1\n",
    "in f(41)\n",
    "```\n",
    "\n",
    "Use the `leaq` instruction, and an *indirect* `callq`."
   ]
  },
  {
   "cell_type": "code",
   "execution_count": null,
   "metadata": {},
   "outputs": [],
   "source": [
    "asm = \"\"\"\n",
    "<your solution here>\n",
    "\"\"\"\n",
    "\n",
    "emu = X86Emulator(logging=True)\n",
    "emu.eval_program(asm)\n",
    "emu.print_state()"
   ]
  },
  {
   "cell_type": "markdown",
   "metadata": {},
   "source": [
    "## Question 10\n",
    "\n",
    "Implement the following program, using an *efficient tail call*. Your implementation should use $O(1)$ stack space.\n",
    "\n",
    "```\n",
    "def find_infinity(n: Integer): Integer = {\n",
    "  find_infinity(n + 1)\n",
    "}\n",
    "\n",
    "find_infinity(1)\n",
    "```"
   ]
  },
  {
   "cell_type": "code",
   "execution_count": null,
   "metadata": {},
   "outputs": [],
   "source": [
    "asm = \"\"\"\n",
    "<your solution here>\n",
    "\"\"\"\n",
    "\n",
    "emu = X86Emulator(logging=True)\n",
    "emu.eval_program(asm)\n",
    "emu.print_state()"
   ]
  }
 ],
 "metadata": {
  "kernelspec": {
   "display_name": "Python 3",
   "language": "python",
   "name": "python3"
  },
  "language_info": {
   "codemirror_mode": {
    "name": "ipython",
    "version": 3
   },
   "file_extension": ".py",
   "mimetype": "text/x-python",
   "name": "python",
   "nbconvert_exporter": "python",
   "pygments_lexer": "ipython3",
   "version": "3.7.7"
  }
 },
 "nbformat": 4,
 "nbformat_minor": 4
}
