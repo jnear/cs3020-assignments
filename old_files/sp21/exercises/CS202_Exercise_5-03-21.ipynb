{
 "cells": [
  {
   "cell_type": "markdown",
   "metadata": {},
   "source": [
    "# CS202: Compiler Construction\n",
    "\n",
    "## In-class Exercises, Week of 05/03/2021\n",
    "\n",
    "----"
   ]
  },
  {
   "cell_type": "markdown",
   "metadata": {},
   "source": [
    "## Question 1\n",
    "\n",
    "Transform the following program into an `RFun` program using vectors.\n",
    "\n",
    "```\n",
    "record Point {\n",
    "  add: (Point, Point) -> Point,\n",
    "  x: Integer,\n",
    "  y: Integer\n",
    "}\n",
    "\n",
    "def addPoint(self: Point, other: Point): Point = {\n",
    "  Point(self.add, self.x + other.x, other.x + other.y)\n",
    "}\n",
    "\n",
    "let p1 = Point(addPoint, 1, 2) in\n",
    "let p2 = Point(addPoint, 3, 4) in\n",
    "p1.add(p1, p2)\n",
    "```"
   ]
  },
  {
   "cell_type": "markdown",
   "metadata": {},
   "source": [
    "**Your solution here**"
   ]
  },
  {
   "cell_type": "markdown",
   "metadata": {},
   "source": [
    "## Question 2\n",
    "\n",
    "Transform the following program into an `RFun` program by performing closure conversion.\n",
    "\n",
    "```\n",
    "let x = 5 in\n",
    "let f = lambda y: Integer -> x + y\n",
    "in f(6)\n",
    "```"
   ]
  },
  {
   "cell_type": "markdown",
   "metadata": {},
   "source": [
    "**Your solution here**"
   ]
  },
  {
   "cell_type": "markdown",
   "metadata": {},
   "source": [
    "## Question 3\n",
    "\n",
    "Transform the following program into an `RFun` program using `inject` and `project`.\n",
    "\n",
    "```\n",
    "let x = 5\n",
    "in let y = 6\n",
    "in x + y\n",
    "```"
   ]
  },
  {
   "cell_type": "markdown",
   "metadata": {},
   "source": [
    "**Your solution here**"
   ]
  }
 ],
 "metadata": {
  "kernelspec": {
   "display_name": "Python 3",
   "language": "python",
   "name": "python3"
  },
  "language_info": {
   "codemirror_mode": {
    "name": "ipython",
    "version": 3
   },
   "file_extension": ".py",
   "mimetype": "text/x-python",
   "name": "python",
   "nbconvert_exporter": "python",
   "pygments_lexer": "ipython3",
   "version": "3.6.7"
  }
 },
 "nbformat": 4,
 "nbformat_minor": 4
}
