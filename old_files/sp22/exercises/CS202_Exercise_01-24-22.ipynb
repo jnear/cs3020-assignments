{
 "cells": [
  {
   "cell_type": "markdown",
   "metadata": {},
   "source": [
    "# CS202: Compiler Construction\n",
    "\n",
    "## In-class Exercises, Week of 01/24/2022"
   ]
  },
  {
   "cell_type": "markdown",
   "metadata": {},
   "source": [
    "----\n",
    "# PART I: Lmin language & interpreter; x86 ASTs"
   ]
  },
  {
   "cell_type": "markdown",
   "metadata": {},
   "source": [
    "## Question 1\n",
    "\n",
    "Write code to parse the following `Lmin` program and print out its abstract syntax tree."
   ]
  },
  {
   "cell_type": "code",
   "execution_count": 19,
   "metadata": {},
   "outputs": [],
   "source": [
    "from ast import *\n",
    "from cs202_support.base_ast import print_ast\n",
    "\n",
    "program = \"print(42)\""
   ]
  },
  {
   "cell_type": "code",
   "execution_count": 20,
   "metadata": {},
   "outputs": [
    {
     "name": "stdout",
     "output_type": "stream",
     "text": [
      "Module(\n",
      " [\n",
      "  Expr(\n",
      "   Call(\n",
      "    Name(\n",
      "     \"print\",\n",
      "     Load()),\n",
      "    [\n",
      "     Constant(\n",
      "      42,\n",
      "      None)\n",
      "    ],\n",
      "    []))\n",
      " ],\n",
      " [])\n"
     ]
    }
   ],
   "source": [
    "ast = <<YOUR CODE>>\n",
    "print(print_ast(ast))"
   ]
  },
  {
   "cell_type": "markdown",
   "metadata": {},
   "source": [
    "## Question 2\n",
    "\n",
    "Write an interpreter `eval_lmin` for the `Lmin` language."
   ]
  },
  {
   "cell_type": "code",
   "execution_count": 21,
   "metadata": {},
   "outputs": [
    {
     "name": "stdout",
     "output_type": "stream",
     "text": [
      "42\n"
     ]
    }
   ],
   "source": [
    "def eval_lmin(program):\n",
    "    <<YOUR CODE>>\n",
    "\n",
    "extract_num(ast)"
   ]
  },
  {
   "cell_type": "markdown",
   "metadata": {},
   "source": [
    "## Question 3\n",
    "\n",
    "Write code to generate a *pseudo-x86 abstract syntax tree* for the `start` block for the program above.\n",
    "\n",
    "Hint: reference the [pseudo-x86 AST class hierarchy](https://github.com/jnear/cs202-assignments/blob/master/cs202_support/x86exp.py). Debug your solution using the online compiler's output for the `select instructions` pass."
   ]
  },
  {
   "cell_type": "code",
   "execution_count": 22,
   "metadata": {},
   "outputs": [
    {
     "name": "stdout",
     "output_type": "stream",
     "text": [
      "Program(\n",
      " {\n",
      "  'start':\n",
      "   [\n",
      "    NamedInstr(\n",
      "     \"movq\",\n",
      "     [\n",
      "      Immediate(42),\n",
      "      Reg(\"rdi\")\n",
      "     ]),\n",
      "    Callq(\"print_int\"),\n",
      "    Jmp(\"conclusion\")\n",
      "   ]\n",
      " })\n"
     ]
    }
   ],
   "source": [
    "import cs202_support.x86exp as x86\n",
    "\n",
    "ast = <<YOUR CODE>>\n",
    "\n",
    "\n",
    "print(print_ast(ast))"
   ]
  },
  {
   "cell_type": "markdown",
   "metadata": {},
   "source": [
    "# Part II: Passes of the Compiler"
   ]
  },
  {
   "cell_type": "markdown",
   "metadata": {},
   "source": [
    "## Question 4\n",
    "\n",
    "What is the purpose of the `select_instructions` pass of the compiler? How should it be implemented?"
   ]
  },
  {
   "cell_type": "markdown",
   "metadata": {},
   "source": [
    "<<YOUR ANSWER>>"
   ]
  },
  {
   "cell_type": "markdown",
   "metadata": {},
   "source": [
    "## Question 5\n",
    "\n",
    "What is the purpose of the `print_x86` pass of the compiler? How should it be implemented?"
   ]
  },
  {
   "cell_type": "markdown",
   "metadata": {},
   "source": [
    "<<YOUR ANSWER>>"
   ]
  },
  {
   "cell_type": "markdown",
   "metadata": {},
   "source": [
    "# Part III: Lvar"
   ]
  },
  {
   "cell_type": "markdown",
   "metadata": {},
   "source": [
    "## Question 6\n",
    "\n",
    "Write an interpreter `eval_lvar` for the `Lvar` language. Reference the grammar: Figure 2.2 (page 14) in the textbook."
   ]
  },
  {
   "cell_type": "code",
   "execution_count": 41,
   "metadata": {},
   "outputs": [],
   "source": [
    "from typing import Dict\n",
    "\n",
    "def eval_lvar(program: Module):\n",
    "    <<YOUR ANSWER>>"
   ]
  },
  {
   "cell_type": "code",
   "execution_count": 43,
   "metadata": {},
   "outputs": [
    {
     "name": "stdout",
     "output_type": "stream",
     "text": [
      "11\n"
     ]
    }
   ],
   "source": [
    "# TEST CASE\n",
    "program = \"\"\"\n",
    "x = 5\n",
    "y = 6\n",
    "print(x + y)\"\"\"\n",
    "\n",
    "eval_lvar(parse(program))"
   ]
  },
  {
   "cell_type": "markdown",
   "metadata": {},
   "source": [
    "----\n",
    "# PART IV: Remove Complex Operands"
   ]
  },
  {
   "cell_type": "markdown",
   "metadata": {},
   "source": [
    "## Question 7\n",
    "\n",
    "Consider this translation of an expression to assembly language. What is wrong with it?"
   ]
  },
  {
   "cell_type": "code",
   "execution_count": 44,
   "metadata": {},
   "outputs": [],
   "source": [
    "python = \"\"\"\n",
    "x = 1 + 2 + 3\n",
    "\"\"\"\n",
    "\n",
    "asm = \"\"\"\n",
    "movq $2, %rax\n",
    "addq $1, (addq $3, %rax)\n",
    "\"\"\""
   ]
  },
  {
   "cell_type": "markdown",
   "metadata": {},
   "source": [
    "<<YOUR ANSWER>>"
   ]
  },
  {
   "cell_type": "markdown",
   "metadata": {},
   "source": [
    "## Question 8\n",
    "\n",
    "Which AST nodes in the language `Lvar` are **atomic**?"
   ]
  },
  {
   "cell_type": "markdown",
   "metadata": {},
   "source": [
    "<<YOUR ANSWER>>"
   ]
  },
  {
   "cell_type": "markdown",
   "metadata": {},
   "source": [
    "## Question 9\n",
    "\n",
    "Why do we need this pass? What is the form of its output?"
   ]
  },
  {
   "cell_type": "markdown",
   "metadata": {},
   "source": [
    "<<YOUR ANSWER>>"
   ]
  },
  {
   "cell_type": "markdown",
   "metadata": {},
   "source": [
    "## Question 10\n",
    "\n",
    "Convert the program from earlier into A-normal form."
   ]
  },
  {
   "cell_type": "code",
   "execution_count": 45,
   "metadata": {},
   "outputs": [],
   "source": [
    "python = \"\"\"\n",
    "x = 1 + 2 + 3\n",
    "\"\"\""
   ]
  },
  {
   "cell_type": "code",
   "execution_count": 46,
   "metadata": {},
   "outputs": [],
   "source": [
    "python_anf = \"\"\"\n",
    "<<YOUR ANSWER>>\n",
    "\"\"\""
   ]
  },
  {
   "cell_type": "markdown",
   "metadata": {},
   "source": [
    "## Question 11\n",
    "\n",
    "Describe a recursive procedure to perform the *remove-complex-opera* pass. Reference section 2.4 in the textbook."
   ]
  },
  {
   "cell_type": "markdown",
   "metadata": {},
   "source": [
    "<<YOUR ANSWER>>"
   ]
  }
 ],
 "metadata": {
  "kernelspec": {
   "display_name": "Python 3 (ipykernel)",
   "language": "python",
   "name": "python3"
  },
  "language_info": {
   "codemirror_mode": {
    "name": "ipython",
    "version": 3
   },
   "file_extension": ".py",
   "mimetype": "text/x-python",
   "name": "python",
   "nbconvert_exporter": "python",
   "pygments_lexer": "ipython3",
   "version": "3.10.0"
  }
 },
 "nbformat": 4,
 "nbformat_minor": 2
}
