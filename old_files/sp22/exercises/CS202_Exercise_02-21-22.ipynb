{
 "cells": [
  {
   "cell_type": "markdown",
   "metadata": {},
   "source": [
    "# CS202: Compiler Construction\n",
    "\n",
    "## In-class Exercises, Week of 02/21/2022\n",
    "\n",
    "----"
   ]
  },
  {
   "cell_type": "markdown",
   "metadata": {},
   "source": [
    "# Part 1: Conditionals"
   ]
  },
  {
   "cell_type": "markdown",
   "metadata": {},
   "source": [
    "## Question 1\n",
    "\n",
    "The following grammar defines the *concrete syntax* for a subset of $L_{if}$.\n",
    "\n",
    "\\begin{align*}\n",
    "b &::= \\texttt{True} \\mid \\texttt{False}\\\\\n",
    "cmp &::= \\texttt{==} \\mid \\texttt{!=} \\mid \\texttt{<} \\mid \\texttt{<=} \\mid \\texttt{>} \\mid \\texttt{>=} \\\\\n",
    "exp &::= n \\mid b \\mid exp + exp \\mid exp\\; cmp\\; exp \\mid exp\\; \\texttt{and}\\; exp \\mid exp\\; \\texttt{or}\\; exp \\\\\n",
    "stmt &::= var = exp \\mid \\texttt{print}(exp) \\mid \\texttt{if}\\; exp: stmt^+\\; \\texttt{else}: stmt^+ \\\\\n",
    "\\end{align*}\n",
    "\n",
    "Write a program that prints 42 if 5 equals 6, and 0 otherwise."
   ]
  },
  {
   "cell_type": "markdown",
   "metadata": {},
   "source": [
    "YOUR SOLUTION HERE"
   ]
  },
  {
   "cell_type": "markdown",
   "metadata": {},
   "source": [
    "## Question 2\n",
    "\n",
    "Write the same program in x86 assembly language."
   ]
  },
  {
   "cell_type": "markdown",
   "metadata": {},
   "source": [
    "YOUR SOLUTION HERE"
   ]
  },
  {
   "cell_type": "markdown",
   "metadata": {},
   "source": [
    "## Question 3\n",
    "\n",
    "Convert the following program to pseudo-x86 assembly:\n",
    "\n",
    "```\n",
    "if 5 == 6:\n",
    "  x = 0\n",
    "else:\n",
    "  x = 40\n",
    "print(x+2)\n",
    "```"
   ]
  },
  {
   "cell_type": "markdown",
   "metadata": {},
   "source": [
    "YOUR SOLUTION HERE"
   ]
  },
  {
   "cell_type": "markdown",
   "metadata": {},
   "source": [
    "## Question 4\n",
    "\n",
    "Describe a strategy for converting `if` expressions into x86 assembly."
   ]
  },
  {
   "cell_type": "markdown",
   "metadata": {},
   "source": [
    "YOUR SOLUTION HERE"
   ]
  },
  {
   "cell_type": "markdown",
   "metadata": {},
   "source": [
    "**Notes:**\n",
    "- `if` is a structure for *control flow*\n",
    "- A [control flow graph](https://en.wikipedia.org/wiki/Control-flow_graph) can express x86 programs with control flow"
   ]
  },
  {
   "cell_type": "markdown",
   "metadata": {},
   "source": [
    "----"
   ]
  },
  {
   "cell_type": "markdown",
   "metadata": {},
   "source": [
    "# Part 2: Typechecking"
   ]
  },
  {
   "cell_type": "markdown",
   "metadata": {},
   "source": [
    "## Question 5\n",
    "\n",
    "What does this program do? What is the type of `x`?\n",
    "\n",
    "```\n",
    "if 1:\n",
    "  x = 2\n",
    "else:\n",
    "  x = 3\n",
    "```"
   ]
  },
  {
   "cell_type": "markdown",
   "metadata": {},
   "source": [
    "YOUR SOLUTION HERE"
   ]
  },
  {
   "cell_type": "markdown",
   "metadata": {},
   "source": [
    "## Question 6\n",
    "\n",
    "What is the type of `x`?\n",
    "\n",
    "```\n",
    "if 5 == 6:\n",
    "  x = 7\n",
    "else:\n",
    "  x = True\n",
    "```"
   ]
  },
  {
   "cell_type": "markdown",
   "metadata": {},
   "source": [
    "YOUR SOLUTION HERE"
   ]
  },
  {
   "cell_type": "markdown",
   "metadata": {},
   "source": [
    "## Question 7\n",
    "\n",
    "Fill in the following definition of a typechecker for $L_{if}$ expressions."
   ]
  },
  {
   "cell_type": "code",
   "execution_count": 8,
   "metadata": {},
   "outputs": [
    {
     "name": "stdout",
     "output_type": "stream",
     "text": [
      "Test 1: <class 'int'>\n",
      "Test 2: <class 'bool'>\n",
      "Test 3: <class 'int'>\n"
     ]
    }
   ],
   "source": [
    "from ast import *\n",
    "from typing import Dict, List\n",
    "TEnv = Dict[str, type]\n",
    "\n",
    "def tc_exp(e: expr, env: TEnv) -> type:\n",
    "    match e:\n",
    "        case Name(x):\n",
    "            pass # YOUR SOLUTION HERE\n",
    "        case Constant(i):\n",
    "            pass # YOUR SOLUTION HERE\n",
    "        case BinOp(e1, Add(), e2):\n",
    "            pass # YOUR SOLUTION HERE\n",
    "        case Compare(e1, [Eq()], [e2]):\n",
    "            pass # YOUR SOLUTION HERE\n",
    "        case _:\n",
    "            raise Exception('tc_exp', dump(e))\n",
    "\n",
    "# TEST CASES\n",
    "print('Test 1:', tc_exp(parse(\"1\", mode='eval').body, {}))\n",
    "print('Test 2:', tc_exp(parse(\"x\", mode='eval').body, {'x': bool}))\n",
    "print('Test 3:', tc_exp(parse(\"x + 1\", mode='eval').body, {'x': int}))"
   ]
  },
  {
   "cell_type": "markdown",
   "metadata": {},
   "source": [
    "## Question 8\n",
    "\n",
    "Fill in the following definition of a typechecker for $L_{if}$ statements."
   ]
  },
  {
   "cell_type": "code",
   "execution_count": 9,
   "metadata": {},
   "outputs": [],
   "source": [
    "from ast import *\n",
    "from typing import Dict, List\n",
    "TEnv = Dict[str, type]\n",
    "\n",
    "def tc_stmt(s: stmt, env: TEnv):\n",
    "    match s:\n",
    "        case Assign([Name(x)], e1):\n",
    "            pass # YOUR SOLUTION HERE\n",
    "        case If(condition, then_stmts, else_stmts):\n",
    "            pass # YOUR SOLUTION HERE\n",
    "        case Expr(Call(Name('print'), [e])):\n",
    "            assert tc_exp(e, env) == int\n",
    "        case _:\n",
    "            raise Exception('tc_stmt', dump(s))\n",
    "\n",
    "def tc_stmts(ss: List[stmt]):\n",
    "    env = {}\n",
    "    for s in ss:\n",
    "        tc_stmt(s, env)"
   ]
  },
  {
   "cell_type": "code",
   "execution_count": 10,
   "metadata": {},
   "outputs": [
    {
     "name": "stdout",
     "output_type": "stream",
     "text": [
      "Test 1 result: None\n",
      "Test 2 result: Succesfully caught error\n",
      "Test 3 result: None\n",
      "Test 4 result: Succesfully caught error\n"
     ]
    }
   ],
   "source": [
    "# TEST CASES\n",
    "print('Test 1 result:', tc_stmts(parse('x=5').body))\n",
    "\n",
    "error_prog = \"\"\"\n",
    "y = 5\n",
    "y = True\n",
    "\"\"\"\n",
    "\n",
    "try:\n",
    "    print(tc_stmts(parse(error_prog).body))\n",
    "except:\n",
    "    print('Test 2 result: Succesfully caught error')\n",
    "\n",
    "good_if_prog = \"\"\"\n",
    "if 5 == 6:\n",
    "    x = 0\n",
    "else:\n",
    "    x = 1\n",
    "x = 2\n",
    "\"\"\"\n",
    "\n",
    "print('Test 3 result:', tc_stmts(parse(good_if_prog).body))\n",
    "\n",
    "error_if_prog = \"\"\"\n",
    "if 5 == 6:\n",
    "    y = 5\n",
    "else:\n",
    "    y = True\n",
    "\"\"\"\n",
    "\n",
    "try:\n",
    "    print(tc_stmts(parse(error_if_prog).body))\n",
    "except:\n",
    "    print('Test 4 result: Succesfully caught error')"
   ]
  },
  {
   "cell_type": "markdown",
   "metadata": {},
   "source": [
    "----"
   ]
  }
 ],
 "metadata": {
  "kernelspec": {
   "display_name": "Python 3 (ipykernel)",
   "language": "python",
   "name": "python3"
  },
  "language_info": {
   "codemirror_mode": {
    "name": "ipython",
    "version": 3
   },
   "file_extension": ".py",
   "mimetype": "text/x-python",
   "name": "python",
   "nbconvert_exporter": "python",
   "pygments_lexer": "ipython3",
   "version": "3.10.0"
  }
 },
 "nbformat": 4,
 "nbformat_minor": 4
}
