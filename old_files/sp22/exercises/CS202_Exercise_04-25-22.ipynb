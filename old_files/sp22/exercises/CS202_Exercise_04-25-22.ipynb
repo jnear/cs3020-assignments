{
 "cells": [
  {
   "cell_type": "markdown",
   "metadata": {},
   "source": [
    "# CS202: Compiler Construction\n",
    "\n",
    "## In-class Exercises, Week of 04/25/2022\n",
    "\n",
    "----"
   ]
  },
  {
   "cell_type": "markdown",
   "metadata": {},
   "source": [
    "## Question 1\n",
    "\n",
    "Transform the following program into an `Ltup` program using tuples.\n",
    "\n",
    "```\n",
    "class Point:\n",
    "    x: int\n",
    "    y: int\n",
    "\n",
    "p = Point(1, 2)\n",
    "v = p.x + p.y\n",
    "print(v)\n",
    "```"
   ]
  },
  {
   "cell_type": "code",
   "execution_count": 1,
   "metadata": {},
   "outputs": [
    {
     "name": "stdout",
     "output_type": "stream",
     "text": [
      "3\n"
     ]
    }
   ],
   "source": [
    "YOUR SOLUTION HERE"
   ]
  },
  {
   "cell_type": "markdown",
   "metadata": {},
   "source": [
    "## Question 2\n",
    "\n",
    "Transform the following program into an `Lfun` program using tuples.\n",
    "\n",
    "```\n",
    "class Point:\n",
    "    x: int\n",
    "    y: int\n",
    "    \n",
    "    def add(self: Point, other: Point) -> Point:\n",
    "        return Point(self.x + other.x, self.y + other.y)\n",
    "\n",
    "p1 = Point(1, 2)\n",
    "p2 = Point(3, 4)\n",
    "p3 = p1.add(p2)\n",
    "v = p3.x + p3.y\n",
    "print(v)\n",
    "```"
   ]
  },
  {
   "cell_type": "code",
   "execution_count": 4,
   "metadata": {},
   "outputs": [
    {
     "name": "stdout",
     "output_type": "stream",
     "text": [
      "10\n"
     ]
    }
   ],
   "source": [
    "YOUR SOLUTION HERE"
   ]
  },
  {
   "cell_type": "markdown",
   "metadata": {},
   "source": [
    "## Question 3\n",
    "\n",
    "Transform the following program into an `Lfun` program by performing closure conversion.\n",
    "\n",
    "```\n",
    "x = 5\n",
    "f: Callable[[int], int] = lambda y: x + y\n",
    "print(f(6))\n",
    "```"
   ]
  },
  {
   "cell_type": "code",
   "execution_count": 24,
   "metadata": {},
   "outputs": [
    {
     "data": {
      "text/plain": [
       "7"
      ]
     },
     "execution_count": 24,
     "metadata": {},
     "output_type": "execute_result"
    }
   ],
   "source": [
    "from typing import Tuple\n",
    "\n",
    "YOUR SOLUTION HERE"
   ]
  },
  {
   "cell_type": "markdown",
   "metadata": {},
   "source": [
    "## Question 4\n",
    "\n",
    "Transform the following `Ldyn` program into an `Lany` program using `inject` and `project`.\n",
    "\n",
    "```\n",
    "x = 5\n",
    "y = 6\n",
    "z = x + y\n",
    "```"
   ]
  },
  {
   "cell_type": "code",
   "execution_count": 30,
   "metadata": {},
   "outputs": [],
   "source": [
    "from typing import TypeVar\n",
    "T = TypeVar('T')\n",
    "\n",
    "from dataclasses import dataclass\n",
    "@dataclass\n",
    "class AnyVal:\n",
    "    val: any\n",
    "    tag: type\n",
    "\n",
    "def inject(val: T, t: T) -> AnyVal:\n",
    "    return AnyVal(val, t)\n",
    "\n",
    "def project(tagged_val: AnyVal, t: T) -> T:\n",
    "    if tagged_val.tag == t:\n",
    "        return tagged_val.val\n",
    "    else:\n",
    "        raise Exception('run-time type error!')"
   ]
  },
  {
   "cell_type": "code",
   "execution_count": 31,
   "metadata": {},
   "outputs": [],
   "source": [
    "YOUR SOLUTION HERE"
   ]
  },
  {
   "cell_type": "markdown",
   "metadata": {},
   "source": [
    "## Question 5\n",
    "\n",
    "Write the output of `reveal-casts` on the above `Lany` program."
   ]
  },
  {
   "cell_type": "code",
   "execution_count": 39,
   "metadata": {},
   "outputs": [],
   "source": [
    "def make_any(val, tag):\n",
    "    return (val << 3) + tag\n",
    "\n",
    "def tag_of(val):\n",
    "    return val & 7\n",
    "\n",
    "def value_of(val):\n",
    "    return val >> 3"
   ]
  },
  {
   "cell_type": "code",
   "execution_count": 44,
   "metadata": {},
   "outputs": [
    {
     "data": {
      "text/plain": [
       "89"
      ]
     },
     "execution_count": 44,
     "metadata": {},
     "output_type": "execute_result"
    }
   ],
   "source": [
    "YOUR SOLUTION HERE"
   ]
  },
  {
   "cell_type": "markdown",
   "metadata": {},
   "source": [
    "## Question 6\n",
    "\n",
    "Write assembly language instructions for the following `Cany` statements. Reference Section 9.9 in the textbook.\n",
    "\n",
    "1. `x = make_any(5, 0b001)`\n",
    "2. `tmp_4 = tag_of(x)`\n",
    "3. `tmp_1 = value_of(x)`"
   ]
  },
  {
   "cell_type": "markdown",
   "metadata": {},
   "source": [
    "YOUR SOLUTION HERE"
   ]
  }
 ],
 "metadata": {
  "kernelspec": {
   "display_name": "Python 3 (ipykernel)",
   "language": "python",
   "name": "python3"
  },
  "language_info": {
   "codemirror_mode": {
    "name": "ipython",
    "version": 3
   },
   "file_extension": ".py",
   "mimetype": "text/x-python",
   "name": "python",
   "nbconvert_exporter": "python",
   "pygments_lexer": "ipython3",
   "version": "3.10.0"
  }
 },
 "nbformat": 4,
 "nbformat_minor": 4
}
