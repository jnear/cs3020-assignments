{
 "cells": [
  {
   "cell_type": "markdown",
   "metadata": {},
   "source": [
    "# CS202: Compiler Construction\n",
    "\n",
    "## In-class Exercises, Week of 04/10/2023\n",
    "\n",
    "----"
   ]
  },
  {
   "cell_type": "markdown",
   "metadata": {},
   "source": [
    "# Part 1: Functions and Lfun"
   ]
  },
  {
   "cell_type": "markdown",
   "metadata": {},
   "source": [
    "## Question 1\n",
    "\n",
    "Write an `Lfun` program with a function called `add1` that adds 1 to its argument, and a call to the function."
   ]
  },
  {
   "cell_type": "markdown",
   "metadata": {},
   "source": [
    "YOUR ANSWER HERE"
   ]
  },
  {
   "cell_type": "markdown",
   "metadata": {},
   "source": [
    "## Question 2\n",
    "\n",
    "Write a recursive program to calculate the factorial of 5."
   ]
  },
  {
   "cell_type": "markdown",
   "metadata": {},
   "source": [
    "YOUR ANSWER HERE"
   ]
  },
  {
   "cell_type": "markdown",
   "metadata": {},
   "source": [
    "## Question 3\n",
    "\n",
    "Summarize the changes to the compiler to support functions."
   ]
  },
  {
   "cell_type": "markdown",
   "metadata": {},
   "source": [
    "YOUR ANSWER HERE"
   ]
  },
  {
   "cell_type": "markdown",
   "metadata": {},
   "source": [
    "----"
   ]
  },
  {
   "cell_type": "markdown",
   "metadata": {},
   "source": [
    "# Part 2: Typechecking for Functions"
   ]
  },
  {
   "cell_type": "markdown",
   "metadata": {},
   "source": [
    "## Question 4\n",
    "\n",
    "What are the types of the functions `add1` and `*`?"
   ]
  },
  {
   "cell_type": "markdown",
   "metadata": {},
   "source": [
    "YOUR ANSWER HERE"
   ]
  },
  {
   "cell_type": "markdown",
   "metadata": {},
   "source": [
    "## Question 5\n",
    "\n",
    "Why do we need to specify the types of a function's arguments?"
   ]
  },
  {
   "cell_type": "markdown",
   "metadata": {},
   "source": [
    "YOUR ANSWER HERE"
   ]
  },
  {
   "cell_type": "markdown",
   "metadata": {},
   "source": [
    "## Question 6\n",
    "\n",
    "Write a function `length` such that the following expression returns 3:\n",
    "\n",
    "```\n",
    "v = (1, (2, (3, 0)))\n",
    "print(length(v))\n",
    "```"
   ]
  },
  {
   "cell_type": "markdown",
   "metadata": {},
   "source": [
    "YOUR ANSWER HERE"
   ]
  },
  {
   "cell_type": "markdown",
   "metadata": {},
   "source": [
    "## Question 7\n",
    "\n",
    "How do we typecheck a function call of the form `f(a1, ..., ak)`?"
   ]
  },
  {
   "cell_type": "markdown",
   "metadata": {},
   "source": [
    "YOUR ANSWER HERE"
   ]
  },
  {
   "cell_type": "markdown",
   "metadata": {},
   "source": [
    "## Question 8\n",
    "\n",
    "How do we typecheck a function definition?"
   ]
  },
  {
   "cell_type": "markdown",
   "metadata": {},
   "source": [
    "YOUR ANSWER HERE"
   ]
  },
  {
   "cell_type": "markdown",
   "metadata": {},
   "source": [
    "## Question 9\n",
    "\n",
    "How do we typecheck a `Lfun` program?"
   ]
  },
  {
   "cell_type": "markdown",
   "metadata": {},
   "source": [
    "YOUR ANSWER HERE"
   ]
  },
  {
   "cell_type": "markdown",
   "metadata": {},
   "source": [
    "----\n",
    "# Part 3: Changes to RCO and Expose-Alloc"
   ]
  },
  {
   "cell_type": "markdown",
   "metadata": {},
   "source": [
    "## Question 10\n",
    "\n",
    "Describe the changes to RCO."
   ]
  },
  {
   "cell_type": "markdown",
   "metadata": {},
   "source": [
    "YOUR ANSWER HERE"
   ]
  },
  {
   "cell_type": "markdown",
   "metadata": {},
   "source": [
    "## Question 11\n",
    "\n",
    "Describe the changes to expose-alloc."
   ]
  },
  {
   "cell_type": "markdown",
   "metadata": {},
   "source": [
    "YOUR ANSWER HERE"
   ]
  },
  {
   "cell_type": "markdown",
   "metadata": {},
   "source": [
    "----"
   ]
  },
  {
   "cell_type": "markdown",
   "metadata": {},
   "source": [
    "# Part 4: Functions in x86 Assembly"
   ]
  },
  {
   "cell_type": "markdown",
   "metadata": {},
   "source": [
    "## Question 12\n",
    "\n",
    "Write an x86 assembly program corresponding to the `add1` program."
   ]
  },
  {
   "cell_type": "code",
   "execution_count": 4,
   "metadata": {},
   "outputs": [
    {
     "name": "stdout",
     "output_type": "stream",
     "text": [
      "============================== STARTING EXECUTION ==============================\n",
      "CALL TO print_int: 42\n",
      "  Location                        Value\n",
      "0  reg rbp                         1000\n",
      "1  reg rsp                         1000\n",
      "2  reg rdi                           42\n",
      "3   reg r9  FunPointer(fun_name='add1')\n",
      "4   reg r8                           42\n",
      "5  reg rax                           42\n",
      "6     main  FunPointer(fun_name='main')\n",
      "7     add1  FunPointer(fun_name='add1')\n",
      "FINAL STATE:\n",
      "  Location                        Value\n",
      "0  reg rbp                         1000\n",
      "1  reg rsp                         1000\n",
      "2  reg rdi                           42\n",
      "3   reg r9  FunPointer(fun_name='add1')\n",
      "4   reg r8                           42\n",
      "5  reg rax                            0\n",
      "6     main  FunPointer(fun_name='main')\n",
      "7     add1  FunPointer(fun_name='add1')\n",
      "OUTPUT: [42]\n",
      "============================== FINISHED EXECUTION ==============================\n"
     ]
    },
    {
     "data": {
      "text/html": [
       "<div>\n",
       "<style scoped>\n",
       "    .dataframe tbody tr th:only-of-type {\n",
       "        vertical-align: middle;\n",
       "    }\n",
       "\n",
       "    .dataframe tbody tr th {\n",
       "        vertical-align: top;\n",
       "    }\n",
       "\n",
       "    .dataframe thead th {\n",
       "        text-align: right;\n",
       "    }\n",
       "</style>\n",
       "<table border=\"1\" class=\"dataframe\">\n",
       "  <thead>\n",
       "    <tr style=\"text-align: right;\">\n",
       "      <th></th>\n",
       "      <th>Location</th>\n",
       "      <th>Value</th>\n",
       "    </tr>\n",
       "  </thead>\n",
       "  <tbody>\n",
       "    <tr>\n",
       "      <th>0</th>\n",
       "      <td>reg rbp</td>\n",
       "      <td>1000</td>\n",
       "    </tr>\n",
       "    <tr>\n",
       "      <th>1</th>\n",
       "      <td>reg rsp</td>\n",
       "      <td>1000</td>\n",
       "    </tr>\n",
       "    <tr>\n",
       "      <th>2</th>\n",
       "      <td>reg rdi</td>\n",
       "      <td>42</td>\n",
       "    </tr>\n",
       "    <tr>\n",
       "      <th>3</th>\n",
       "      <td>reg r9</td>\n",
       "      <td>FunPointer(fun_name='add1')</td>\n",
       "    </tr>\n",
       "    <tr>\n",
       "      <th>4</th>\n",
       "      <td>reg r8</td>\n",
       "      <td>42</td>\n",
       "    </tr>\n",
       "    <tr>\n",
       "      <th>5</th>\n",
       "      <td>reg rax</td>\n",
       "      <td>0</td>\n",
       "    </tr>\n",
       "    <tr>\n",
       "      <th>6</th>\n",
       "      <td>main</td>\n",
       "      <td>FunPointer(fun_name='main')</td>\n",
       "    </tr>\n",
       "    <tr>\n",
       "      <th>7</th>\n",
       "      <td>add1</td>\n",
       "      <td>FunPointer(fun_name='add1')</td>\n",
       "    </tr>\n",
       "  </tbody>\n",
       "</table>\n",
       "</div>"
      ],
      "text/plain": [
       "  Location                        Value\n",
       "0  reg rbp                         1000\n",
       "1  reg rsp                         1000\n",
       "2  reg rdi                           42\n",
       "3   reg r9  FunPointer(fun_name='add1')\n",
       "4   reg r8                           42\n",
       "5  reg rax                            0\n",
       "6     main  FunPointer(fun_name='main')\n",
       "7     add1  FunPointer(fun_name='add1')"
      ]
     },
     "execution_count": 4,
     "metadata": {},
     "output_type": "execute_result"
    }
   ],
   "source": [
    "from cs202_support.eval_x86 import X86Emulator\n",
    "\n",
    "asm = \"\"\"\n",
    "YOUR ANSWER HERE\n",
    "\"\"\"\n",
    "\n",
    "emu = X86Emulator(logging=True)\n",
    "emu.eval_program(asm)\n",
    "emu.print_state()"
   ]
  },
  {
   "cell_type": "markdown",
   "metadata": {},
   "source": [
    "## Question 13\n",
    "\n",
    "Describe the *calling convention* we will use for functions in Rfun."
   ]
  },
  {
   "cell_type": "markdown",
   "metadata": {},
   "source": [
    "YOUR ANSWER HERE"
   ]
  },
  {
   "cell_type": "markdown",
   "metadata": {},
   "source": [
    "## Question 14\n",
    "\n",
    "Describe the management of the *stack* and *root stack* performed on function entry and exit."
   ]
  },
  {
   "cell_type": "markdown",
   "metadata": {},
   "source": [
    "YOUR ANSWER HERE"
   ]
  },
  {
   "cell_type": "markdown",
   "metadata": {},
   "source": [
    "## Question 15\n",
    "\n",
    "Modify the program from earlier to correctly manage the stack and root stack. Allocate the variable `n` on the stack."
   ]
  },
  {
   "cell_type": "code",
   "execution_count": 2,
   "metadata": {},
   "outputs": [
    {
     "name": "stdout",
     "output_type": "stream",
     "text": [
      "============================== STARTING EXECUTION ==============================\n",
      "CALL TO initialize: 16384, 16\n",
      "           Location                                   Value\n",
      "0           mem 992                                    1000\n",
      "1           reg rbp                                     992\n",
      "2           reg rsp                                     992\n",
      "3           reg rdi                                   16384\n",
      "4           reg rsi                                      16\n",
      "5              main             FunPointer(fun_name='main')\n",
      "6              add1             FunPointer(fun_name='add1')\n",
      "7        add1_start       FunPointer(fun_name='add1_start')\n",
      "8   add1_conclusion  FunPointer(fun_name='add1_conclusion')\n",
      "9             start            FunPointer(fun_name='start')\n",
      "10       conclusion       FunPointer(fun_name='conclusion')\n",
      "11  rootstack_begin                                    2000\n",
      "12    rootstack_end                                   18384\n",
      "13         free_ptr                                  100000\n",
      "14  fromspace_begin                                  100000\n",
      "15    fromspace_end                                  100016\n",
      "CALL TO print_int: 42\n",
      "           Location                                   Value\n",
      "0           mem 976                                      42\n",
      "1           mem 984                                     992\n",
      "2           mem 992                                    1000\n",
      "3           reg rbp                                     992\n",
      "4           reg rsp                                     992\n",
      "5           reg rdi                                      42\n",
      "6           reg rsi                                      16\n",
      "7           reg r15                                    2000\n",
      "8           reg rdx                                      41\n",
      "9           reg rax                                      42\n",
      "10             main             FunPointer(fun_name='main')\n",
      "11             add1             FunPointer(fun_name='add1')\n",
      "12       add1_start       FunPointer(fun_name='add1_start')\n",
      "13  add1_conclusion  FunPointer(fun_name='add1_conclusion')\n",
      "14            start            FunPointer(fun_name='start')\n",
      "15       conclusion       FunPointer(fun_name='conclusion')\n",
      "16  rootstack_begin                                    2000\n",
      "17    rootstack_end                                   18384\n",
      "18         free_ptr                                  100000\n",
      "19  fromspace_begin                                  100000\n",
      "20    fromspace_end                                  100016\n",
      "FINAL STATE:\n",
      "           Location                                   Value\n",
      "0           mem 976                                      42\n",
      "1           mem 984                                     992\n",
      "2           mem 992                                    1000\n",
      "3           reg rbp                                    1000\n",
      "4           reg rsp                                    1000\n",
      "5           reg rdi                                      42\n",
      "6           reg rsi                                      16\n",
      "7           reg r15                                    2000\n",
      "8           reg rdx                                      41\n",
      "9           reg rax                                       0\n",
      "10             main             FunPointer(fun_name='main')\n",
      "11             add1             FunPointer(fun_name='add1')\n",
      "12       add1_start       FunPointer(fun_name='add1_start')\n",
      "13  add1_conclusion  FunPointer(fun_name='add1_conclusion')\n",
      "14            start            FunPointer(fun_name='start')\n",
      "15       conclusion       FunPointer(fun_name='conclusion')\n",
      "16  rootstack_begin                                    2000\n",
      "17    rootstack_end                                   18384\n",
      "18         free_ptr                                  100000\n",
      "19  fromspace_begin                                  100000\n",
      "20    fromspace_end                                  100016\n",
      "OUTPUT: [42]\n",
      "============================== FINISHED EXECUTION ==============================\n"
     ]
    },
    {
     "data": {
      "text/html": [
       "<div>\n",
       "<style scoped>\n",
       "    .dataframe tbody tr th:only-of-type {\n",
       "        vertical-align: middle;\n",
       "    }\n",
       "\n",
       "    .dataframe tbody tr th {\n",
       "        vertical-align: top;\n",
       "    }\n",
       "\n",
       "    .dataframe thead th {\n",
       "        text-align: right;\n",
       "    }\n",
       "</style>\n",
       "<table border=\"1\" class=\"dataframe\">\n",
       "  <thead>\n",
       "    <tr style=\"text-align: right;\">\n",
       "      <th></th>\n",
       "      <th>Location</th>\n",
       "      <th>Value</th>\n",
       "    </tr>\n",
       "  </thead>\n",
       "  <tbody>\n",
       "    <tr>\n",
       "      <th>0</th>\n",
       "      <td>mem 976</td>\n",
       "      <td>42</td>\n",
       "    </tr>\n",
       "    <tr>\n",
       "      <th>1</th>\n",
       "      <td>mem 984</td>\n",
       "      <td>992</td>\n",
       "    </tr>\n",
       "    <tr>\n",
       "      <th>2</th>\n",
       "      <td>mem 992</td>\n",
       "      <td>1000</td>\n",
       "    </tr>\n",
       "    <tr>\n",
       "      <th>3</th>\n",
       "      <td>reg rbp</td>\n",
       "      <td>1000</td>\n",
       "    </tr>\n",
       "    <tr>\n",
       "      <th>4</th>\n",
       "      <td>reg rsp</td>\n",
       "      <td>1000</td>\n",
       "    </tr>\n",
       "    <tr>\n",
       "      <th>5</th>\n",
       "      <td>reg rdi</td>\n",
       "      <td>42</td>\n",
       "    </tr>\n",
       "    <tr>\n",
       "      <th>6</th>\n",
       "      <td>reg rsi</td>\n",
       "      <td>16</td>\n",
       "    </tr>\n",
       "    <tr>\n",
       "      <th>7</th>\n",
       "      <td>reg r15</td>\n",
       "      <td>2000</td>\n",
       "    </tr>\n",
       "    <tr>\n",
       "      <th>8</th>\n",
       "      <td>reg rdx</td>\n",
       "      <td>41</td>\n",
       "    </tr>\n",
       "    <tr>\n",
       "      <th>9</th>\n",
       "      <td>reg rax</td>\n",
       "      <td>0</td>\n",
       "    </tr>\n",
       "    <tr>\n",
       "      <th>10</th>\n",
       "      <td>main</td>\n",
       "      <td>FunPointer(fun_name='main')</td>\n",
       "    </tr>\n",
       "    <tr>\n",
       "      <th>11</th>\n",
       "      <td>add1</td>\n",
       "      <td>FunPointer(fun_name='add1')</td>\n",
       "    </tr>\n",
       "    <tr>\n",
       "      <th>12</th>\n",
       "      <td>add1_start</td>\n",
       "      <td>FunPointer(fun_name='add1_start')</td>\n",
       "    </tr>\n",
       "    <tr>\n",
       "      <th>13</th>\n",
       "      <td>add1_conclusion</td>\n",
       "      <td>FunPointer(fun_name='add1_conclusion')</td>\n",
       "    </tr>\n",
       "    <tr>\n",
       "      <th>14</th>\n",
       "      <td>start</td>\n",
       "      <td>FunPointer(fun_name='start')</td>\n",
       "    </tr>\n",
       "    <tr>\n",
       "      <th>15</th>\n",
       "      <td>conclusion</td>\n",
       "      <td>FunPointer(fun_name='conclusion')</td>\n",
       "    </tr>\n",
       "    <tr>\n",
       "      <th>16</th>\n",
       "      <td>rootstack_begin</td>\n",
       "      <td>2000</td>\n",
       "    </tr>\n",
       "    <tr>\n",
       "      <th>17</th>\n",
       "      <td>rootstack_end</td>\n",
       "      <td>18384</td>\n",
       "    </tr>\n",
       "    <tr>\n",
       "      <th>18</th>\n",
       "      <td>free_ptr</td>\n",
       "      <td>100000</td>\n",
       "    </tr>\n",
       "    <tr>\n",
       "      <th>19</th>\n",
       "      <td>fromspace_begin</td>\n",
       "      <td>100000</td>\n",
       "    </tr>\n",
       "    <tr>\n",
       "      <th>20</th>\n",
       "      <td>fromspace_end</td>\n",
       "      <td>100016</td>\n",
       "    </tr>\n",
       "  </tbody>\n",
       "</table>\n",
       "</div>"
      ],
      "text/plain": [
       "           Location                                   Value\n",
       "0           mem 976                                      42\n",
       "1           mem 984                                     992\n",
       "2           mem 992                                    1000\n",
       "3           reg rbp                                    1000\n",
       "4           reg rsp                                    1000\n",
       "5           reg rdi                                      42\n",
       "6           reg rsi                                      16\n",
       "7           reg r15                                    2000\n",
       "8           reg rdx                                      41\n",
       "9           reg rax                                       0\n",
       "10             main             FunPointer(fun_name='main')\n",
       "11             add1             FunPointer(fun_name='add1')\n",
       "12       add1_start       FunPointer(fun_name='add1_start')\n",
       "13  add1_conclusion  FunPointer(fun_name='add1_conclusion')\n",
       "14            start            FunPointer(fun_name='start')\n",
       "15       conclusion       FunPointer(fun_name='conclusion')\n",
       "16  rootstack_begin                                    2000\n",
       "17    rootstack_end                                   18384\n",
       "18         free_ptr                                  100000\n",
       "19  fromspace_begin                                  100000\n",
       "20    fromspace_end                                  100016"
      ]
     },
     "execution_count": 2,
     "metadata": {},
     "output_type": "execute_result"
    }
   ],
   "source": [
    "asm = \"\"\"\n",
    "YOUR ANSWER HERE\n",
    "\"\"\"\n",
    "\n",
    "emu = X86Emulator(logging=True)\n",
    "emu.eval_program(asm)\n",
    "emu.print_state()"
   ]
  },
  {
   "cell_type": "markdown",
   "metadata": {},
   "source": [
    "## Question 16\n",
    "\n",
    "Modify the program again, to save and restore the *callee-saved registers*."
   ]
  },
  {
   "cell_type": "code",
   "execution_count": 3,
   "metadata": {
    "scrolled": true
   },
   "outputs": [
    {
     "name": "stdout",
     "output_type": "stream",
     "text": [
      "============================== STARTING EXECUTION ==============================\n",
      "CALL TO initialize: 16384, 16\n",
      "           Location                                   Value\n",
      "0           mem 992                                    1000\n",
      "1           reg rbp                                     992\n",
      "2           reg rsp                                     992\n",
      "3           reg rdi                                   16384\n",
      "4           reg rsi                                      16\n",
      "5              main             FunPointer(fun_name='main')\n",
      "6              add1             FunPointer(fun_name='add1')\n",
      "7        add1_start       FunPointer(fun_name='add1_start')\n",
      "8   add1_conclusion  FunPointer(fun_name='add1_conclusion')\n",
      "9             start            FunPointer(fun_name='start')\n",
      "10       conclusion       FunPointer(fun_name='conclusion')\n",
      "11  rootstack_begin                                    2000\n",
      "12    rootstack_end                                   18384\n",
      "13         free_ptr                                  100000\n",
      "14  fromspace_begin                                  100000\n",
      "15    fromspace_end                                  100016\n",
      "CALL TO print_int: 42\n",
      "           Location                                   Value\n",
      "0           mem 952                                    None\n",
      "1           mem 960                                    None\n",
      "2           mem 968                                    None\n",
      "3           mem 976                                      42\n",
      "4           mem 984                                     992\n",
      "5           mem 992                                    1000\n",
      "6           reg rbp                                     992\n",
      "7           reg rsp                                     992\n",
      "8           reg rdi                                      42\n",
      "9           reg rsi                                      16\n",
      "10          reg r15                                    2000\n",
      "11          reg rdx                                      41\n",
      "12          reg rbx                                      42\n",
      "13          reg r12                                    None\n",
      "14          reg r13                                    None\n",
      "15          reg r14                                    None\n",
      "16          reg rax                                      42\n",
      "17             main             FunPointer(fun_name='main')\n",
      "18             add1             FunPointer(fun_name='add1')\n",
      "19       add1_start       FunPointer(fun_name='add1_start')\n",
      "20  add1_conclusion  FunPointer(fun_name='add1_conclusion')\n",
      "21            start            FunPointer(fun_name='start')\n",
      "22       conclusion       FunPointer(fun_name='conclusion')\n",
      "23  rootstack_begin                                    2000\n",
      "24    rootstack_end                                   18384\n",
      "25         free_ptr                                  100000\n",
      "26  fromspace_begin                                  100000\n",
      "27    fromspace_end                                  100016\n",
      "FINAL STATE:\n",
      "           Location                                   Value\n",
      "0           mem 952                                    None\n",
      "1           mem 960                                    None\n",
      "2           mem 968                                    None\n",
      "3           mem 976                                      42\n",
      "4           mem 984                                     992\n",
      "5           mem 992                                    1000\n",
      "6           reg rbp                                    1000\n",
      "7           reg rsp                                    1000\n",
      "8           reg rdi                                      42\n",
      "9           reg rsi                                      16\n",
      "10          reg r15                                    2000\n",
      "11          reg rdx                                      41\n",
      "12          reg rbx                                      42\n",
      "13          reg r12                                    None\n",
      "14          reg r13                                    None\n",
      "15          reg r14                                    None\n",
      "16          reg rax                                       0\n",
      "17             main             FunPointer(fun_name='main')\n",
      "18             add1             FunPointer(fun_name='add1')\n",
      "19       add1_start       FunPointer(fun_name='add1_start')\n",
      "20  add1_conclusion  FunPointer(fun_name='add1_conclusion')\n",
      "21            start            FunPointer(fun_name='start')\n",
      "22       conclusion       FunPointer(fun_name='conclusion')\n",
      "23  rootstack_begin                                    2000\n",
      "24    rootstack_end                                   18384\n",
      "25         free_ptr                                  100000\n",
      "26  fromspace_begin                                  100000\n",
      "27    fromspace_end                                  100016\n",
      "OUTPUT: [42]\n",
      "============================== FINISHED EXECUTION ==============================\n"
     ]
    },
    {
     "data": {
      "text/html": [
       "<div>\n",
       "<style scoped>\n",
       "    .dataframe tbody tr th:only-of-type {\n",
       "        vertical-align: middle;\n",
       "    }\n",
       "\n",
       "    .dataframe tbody tr th {\n",
       "        vertical-align: top;\n",
       "    }\n",
       "\n",
       "    .dataframe thead th {\n",
       "        text-align: right;\n",
       "    }\n",
       "</style>\n",
       "<table border=\"1\" class=\"dataframe\">\n",
       "  <thead>\n",
       "    <tr style=\"text-align: right;\">\n",
       "      <th></th>\n",
       "      <th>Location</th>\n",
       "      <th>Value</th>\n",
       "    </tr>\n",
       "  </thead>\n",
       "  <tbody>\n",
       "    <tr>\n",
       "      <th>0</th>\n",
       "      <td>mem 952</td>\n",
       "      <td>None</td>\n",
       "    </tr>\n",
       "    <tr>\n",
       "      <th>1</th>\n",
       "      <td>mem 960</td>\n",
       "      <td>None</td>\n",
       "    </tr>\n",
       "    <tr>\n",
       "      <th>2</th>\n",
       "      <td>mem 968</td>\n",
       "      <td>None</td>\n",
       "    </tr>\n",
       "    <tr>\n",
       "      <th>3</th>\n",
       "      <td>mem 976</td>\n",
       "      <td>42</td>\n",
       "    </tr>\n",
       "    <tr>\n",
       "      <th>4</th>\n",
       "      <td>mem 984</td>\n",
       "      <td>992</td>\n",
       "    </tr>\n",
       "    <tr>\n",
       "      <th>5</th>\n",
       "      <td>mem 992</td>\n",
       "      <td>1000</td>\n",
       "    </tr>\n",
       "    <tr>\n",
       "      <th>6</th>\n",
       "      <td>reg rbp</td>\n",
       "      <td>1000</td>\n",
       "    </tr>\n",
       "    <tr>\n",
       "      <th>7</th>\n",
       "      <td>reg rsp</td>\n",
       "      <td>1000</td>\n",
       "    </tr>\n",
       "    <tr>\n",
       "      <th>8</th>\n",
       "      <td>reg rdi</td>\n",
       "      <td>42</td>\n",
       "    </tr>\n",
       "    <tr>\n",
       "      <th>9</th>\n",
       "      <td>reg rsi</td>\n",
       "      <td>16</td>\n",
       "    </tr>\n",
       "    <tr>\n",
       "      <th>10</th>\n",
       "      <td>reg r15</td>\n",
       "      <td>2000</td>\n",
       "    </tr>\n",
       "    <tr>\n",
       "      <th>11</th>\n",
       "      <td>reg rdx</td>\n",
       "      <td>41</td>\n",
       "    </tr>\n",
       "    <tr>\n",
       "      <th>12</th>\n",
       "      <td>reg rbx</td>\n",
       "      <td>42</td>\n",
       "    </tr>\n",
       "    <tr>\n",
       "      <th>13</th>\n",
       "      <td>reg r12</td>\n",
       "      <td>None</td>\n",
       "    </tr>\n",
       "    <tr>\n",
       "      <th>14</th>\n",
       "      <td>reg r13</td>\n",
       "      <td>None</td>\n",
       "    </tr>\n",
       "    <tr>\n",
       "      <th>15</th>\n",
       "      <td>reg r14</td>\n",
       "      <td>None</td>\n",
       "    </tr>\n",
       "    <tr>\n",
       "      <th>16</th>\n",
       "      <td>reg rax</td>\n",
       "      <td>0</td>\n",
       "    </tr>\n",
       "    <tr>\n",
       "      <th>17</th>\n",
       "      <td>main</td>\n",
       "      <td>FunPointer(fun_name='main')</td>\n",
       "    </tr>\n",
       "    <tr>\n",
       "      <th>18</th>\n",
       "      <td>add1</td>\n",
       "      <td>FunPointer(fun_name='add1')</td>\n",
       "    </tr>\n",
       "    <tr>\n",
       "      <th>19</th>\n",
       "      <td>add1_start</td>\n",
       "      <td>FunPointer(fun_name='add1_start')</td>\n",
       "    </tr>\n",
       "    <tr>\n",
       "      <th>20</th>\n",
       "      <td>add1_conclusion</td>\n",
       "      <td>FunPointer(fun_name='add1_conclusion')</td>\n",
       "    </tr>\n",
       "    <tr>\n",
       "      <th>21</th>\n",
       "      <td>start</td>\n",
       "      <td>FunPointer(fun_name='start')</td>\n",
       "    </tr>\n",
       "    <tr>\n",
       "      <th>22</th>\n",
       "      <td>conclusion</td>\n",
       "      <td>FunPointer(fun_name='conclusion')</td>\n",
       "    </tr>\n",
       "    <tr>\n",
       "      <th>23</th>\n",
       "      <td>rootstack_begin</td>\n",
       "      <td>2000</td>\n",
       "    </tr>\n",
       "    <tr>\n",
       "      <th>24</th>\n",
       "      <td>rootstack_end</td>\n",
       "      <td>18384</td>\n",
       "    </tr>\n",
       "    <tr>\n",
       "      <th>25</th>\n",
       "      <td>free_ptr</td>\n",
       "      <td>100000</td>\n",
       "    </tr>\n",
       "    <tr>\n",
       "      <th>26</th>\n",
       "      <td>fromspace_begin</td>\n",
       "      <td>100000</td>\n",
       "    </tr>\n",
       "    <tr>\n",
       "      <th>27</th>\n",
       "      <td>fromspace_end</td>\n",
       "      <td>100016</td>\n",
       "    </tr>\n",
       "  </tbody>\n",
       "</table>\n",
       "</div>"
      ],
      "text/plain": [
       "           Location                                   Value\n",
       "0           mem 952                                    None\n",
       "1           mem 960                                    None\n",
       "2           mem 968                                    None\n",
       "3           mem 976                                      42\n",
       "4           mem 984                                     992\n",
       "5           mem 992                                    1000\n",
       "6           reg rbp                                    1000\n",
       "7           reg rsp                                    1000\n",
       "8           reg rdi                                      42\n",
       "9           reg rsi                                      16\n",
       "10          reg r15                                    2000\n",
       "11          reg rdx                                      41\n",
       "12          reg rbx                                      42\n",
       "13          reg r12                                    None\n",
       "14          reg r13                                    None\n",
       "15          reg r14                                    None\n",
       "16          reg rax                                       0\n",
       "17             main             FunPointer(fun_name='main')\n",
       "18             add1             FunPointer(fun_name='add1')\n",
       "19       add1_start       FunPointer(fun_name='add1_start')\n",
       "20  add1_conclusion  FunPointer(fun_name='add1_conclusion')\n",
       "21            start            FunPointer(fun_name='start')\n",
       "22       conclusion       FunPointer(fun_name='conclusion')\n",
       "23  rootstack_begin                                    2000\n",
       "24    rootstack_end                                   18384\n",
       "25         free_ptr                                  100000\n",
       "26  fromspace_begin                                  100000\n",
       "27    fromspace_end                                  100016"
      ]
     },
     "execution_count": 3,
     "metadata": {},
     "output_type": "execute_result"
    }
   ],
   "source": [
    "asm = \"\"\"\n",
    "YOUR ANSWER HERE\n",
    "\"\"\"\n",
    "\n",
    "emu = X86Emulator(logging=True)\n",
    "emu.eval_program(asm)\n",
    "emu.print_state()"
   ]
  },
  {
   "cell_type": "markdown",
   "metadata": {},
   "source": [
    "----\n",
    "# Part 5: Explicate-Control"
   ]
  },
  {
   "cell_type": "markdown",
   "metadata": {},
   "source": [
    "## Question 16\n",
    "\n",
    "Describe the changes to explicate-control."
   ]
  },
  {
   "cell_type": "markdown",
   "metadata": {},
   "source": [
    "YOUR ANSWER HERE"
   ]
  },
  {
   "cell_type": "markdown",
   "metadata": {},
   "source": [
    "## Question 17\n",
    "\n",
    "Describe the ec_function function."
   ]
  },
  {
   "cell_type": "markdown",
   "metadata": {},
   "source": [
    "YOUR ANSWER HERE"
   ]
  }
 ],
 "metadata": {
  "kernelspec": {
   "display_name": "Python 3 (ipykernel)",
   "language": "python",
   "name": "python3"
  },
  "language_info": {
   "codemirror_mode": {
    "name": "ipython",
    "version": 3
   },
   "file_extension": ".py",
   "mimetype": "text/x-python",
   "name": "python",
   "nbconvert_exporter": "python",
   "pygments_lexer": "ipython3",
   "version": "3.10.8"
  }
 },
 "nbformat": 4,
 "nbformat_minor": 4
}
